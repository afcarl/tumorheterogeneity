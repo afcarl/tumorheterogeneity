{
 "cells": [
  {
   "cell_type": "code",
   "execution_count": 104,
   "metadata": {
    "collapsed": false
   },
   "outputs": [
    {
     "name": "stdout",
     "output_type": "stream",
     "text": [
      "Populating the interactive namespace from numpy and matplotlib\n"
     ]
    },
    {
     "name": "stderr",
     "output_type": "stream",
     "text": [
      "WARNING: pylab import has clobbered these variables: ['slopes', 'polyfit']\n",
      "`%matplotlib` prevents importing * from pylab and numpy\n"
     ]
    }
   ],
   "source": [
    "%pylab inline\n",
    "import pandas as pd\n",
    "from scipy import stats, interpolate\n",
    "import statsmodels.api as sm\n",
    "polyfit = np.polynomial.polynomial.polyfit"
   ]
  },
  {
   "cell_type": "code",
   "execution_count": 3,
   "metadata": {
    "collapsed": true
   },
   "outputs": [],
   "source": [
    "data = pd.read_csv('./June29outs/1_0_1_outs/pipe_out_Wed_Jun_29_11_54_28_2016/statistics.csv')"
   ]
  },
  {
   "cell_type": "code",
   "execution_count": 105,
   "metadata": {
    "collapsed": false,
    "scrolled": false
   },
   "outputs": [
    {
     "name": "stdout",
     "output_type": "stream",
     "text": [
      "('samplesize:', 2)\n",
      "('numberofpoints', 124)\n",
      "('pvalue:', 0.15381695102491991)\n",
      "('rvalue:', -0.12884497923941171)\n",
      "('slope:', -0.0004316517862497957)\n",
      "('std_err', 0.00030078141774425094)\n",
      "('intercept:', 1.9089775699200517)\n",
      "('NEGATIVE SLOPE:', True)\n",
      "\n",
      "\n",
      "('samplesize:', 3)\n",
      "('numberofpoints', 118)\n",
      "('pvalue:', 0.24095263530309521)\n",
      "('rvalue:', -0.10878474865015389)\n",
      "('slope:', -0.00044754507974519719)\n",
      "('std_err', 0.00037971233584514042)\n",
      "('intercept:', 2.6103743813128673)\n",
      "('NEGATIVE SLOPE:', True)\n",
      "\n",
      "\n",
      "('samplesize:', 4)\n",
      "('numberofpoints', 85)\n",
      "('pvalue:', 0.13200568925443773)\n",
      "('rvalue:', -0.16469530693655032)\n",
      "('slope:', -0.00091209693825168201)\n",
      "('std_err', 0.0005995830558454306)\n",
      "('intercept:', 3.2588422680572497)\n",
      "('NEGATIVE SLOPE:', True)\n",
      "\n",
      "\n",
      "('samplesize:', 5)\n",
      "('numberofpoints', 82)\n",
      "('pvalue:', 0.0012997686167119942)\n",
      "('rvalue:', -0.34925817741496373)\n",
      "('slope:', -0.0026076364546998277)\n",
      "('std_err', 0.00078218116900637222)\n",
      "('intercept:', 4.6230508514700901)\n",
      "('NEGATIVE SLOPE:', True)\n",
      "\n",
      "\n",
      "('samplesize:', 6)\n",
      "('numberofpoints', 69)\n",
      "('pvalue:', 0.0010003871822282986)\n",
      "('rvalue:', -0.38759406905997063)\n",
      "('slope:', -0.0032474086193089681)\n",
      "('std_err', 0.00094356826595065992)\n",
      "('intercept:', 5.6936955976405796)\n",
      "('NEGATIVE SLOPE:', True)\n",
      "\n",
      "\n",
      "('samplesize:', 7)\n",
      "('numberofpoints', 55)\n",
      "('pvalue:', 0.010521602564039903)\n",
      "('rvalue:', -0.34231940980074288)\n",
      "('slope:', -0.0027229800292802417)\n",
      "('std_err', 0.0010266217102870873)\n",
      "('intercept:', 6.1575606148167861)\n",
      "('NEGATIVE SLOPE:', True)\n",
      "\n",
      "\n",
      "('samplesize:', 8)\n",
      "('numberofpoints', 54)\n",
      "('pvalue:', 0.22103573310295843)\n",
      "('rvalue:', -0.16929122518047782)\n",
      "('slope:', -0.0018656782011386003)\n",
      "('std_err', 0.0015062128958598432)\n",
      "('intercept:', 5.9236856081714855)\n",
      "('NEGATIVE SLOPE:', True)\n",
      "\n",
      "\n",
      "('samplesize:', 9)\n",
      "('numberofpoints', 39)\n",
      "('pvalue:', 0.12943510872526515)\n",
      "('rvalue:', -0.24706420964765008)\n",
      "('slope:', -0.0029160028568172638)\n",
      "('std_err', 0.0018801851774131568)\n",
      "('intercept:', 7.1579509180593632)\n",
      "('NEGATIVE SLOPE:', True)\n",
      "\n",
      "\n",
      "('samplesize:', 10)\n",
      "('numberofpoints', 37)\n",
      "('pvalue:', 0.0010397029118024632)\n",
      "('rvalue:', -0.51742466090134343)\n",
      "('slope:', -0.0046844231887036561)\n",
      "('std_err', 0.0013095168995242473)\n",
      "('intercept:', 8.0331435148725134)\n",
      "('NEGATIVE SLOPE:', True)\n",
      "\n",
      "\n",
      "('samplesize:', 11)\n",
      "('numberofpoints', 26)\n",
      "('pvalue:', 0.054535592418119172)\n",
      "('rvalue:', -0.38140906539285407)\n",
      "('slope:', -0.0056782265687693994)\n",
      "('std_err', 0.0028091764038312957)\n",
      "('intercept:', 8.9194900156382193)\n",
      "('NEGATIVE SLOPE:', True)\n",
      "\n",
      "\n",
      "('samplesize:', 12)\n",
      "('numberofpoints', 21)\n",
      "('pvalue:', 0.068888525931805111)\n",
      "('rvalue:', -0.40457439299596204)\n",
      "('slope:', -0.0048965141132876729)\n",
      "('std_err', 0.0025392060618522794)\n",
      "('intercept:', 9.3387895737172499)\n",
      "('NEGATIVE SLOPE:', True)\n",
      "\n",
      "\n",
      "('samplesize:', 13)\n",
      "('numberofpoints', 24)\n",
      "('pvalue:', 0.0081586627655868497)\n",
      "('rvalue:', -0.52690113794391313)\n",
      "('slope:', -0.0051581941716083443)\n",
      "('std_err', 0.0017739387500177305)\n",
      "('intercept:', 9.2298346702428216)\n",
      "('NEGATIVE SLOPE:', True)\n",
      "\n",
      "\n",
      "('samplesize:', 14)\n",
      "('numberofpoints', 9)\n",
      "('pvalue:', 0.42369428148452748)\n",
      "('rvalue:', 0.30571341936681412)\n",
      "('slope:', 0.0032712657736839552)\n",
      "('std_err', 0.0038507526815868306)\n",
      "('intercept:', 7.4334469931815637)\n",
      "('NEGATIVE SLOPE:', False)\n",
      "\n",
      "\n",
      "('samplesize:', 15)\n",
      "('numberofpoints', 15)\n",
      "('pvalue:', 0.0029293663573985176)\n",
      "('rvalue:', -0.71156209322352748)\n",
      "('slope:', -0.0072793891145575664)\n",
      "('std_err', 0.0019935767130185361)\n",
      "('intercept:', 11.606116479114483)\n",
      "('NEGATIVE SLOPE:', True)\n",
      "\n",
      "\n",
      "('samplesize:', 16)\n",
      "('numberofpoints', 7)\n",
      "('pvalue:', 0.69394429248615808)\n",
      "('rvalue:', 0.18334784049063632)\n",
      "('slope:', 0.0013261048218375449)\n",
      "('std_err', 0.0031797415480032164)\n",
      "('intercept:', 7.653916927877221)\n",
      "('NEGATIVE SLOPE:', False)\n",
      "\n",
      "\n",
      "('samplesize:', 17)\n",
      "('numberofpoints', 5)\n",
      "('pvalue:', 0.069799206304661951)\n",
      "('rvalue:', -0.84754651309922768)\n",
      "('slope:', -0.00492917552862388)\n",
      "('std_err', 0.0017820360534692994)\n",
      "('intercept:', 12.117716236177332)\n",
      "('NEGATIVE SLOPE:', True)\n",
      "\n",
      "\n",
      "('samplesize:', 18)\n",
      "('numberofpoints', 4)\n",
      "('pvalue:', 0.56608190346153919)\n",
      "('rvalue:', -0.43391809653846092)\n",
      "('slope:', -0.0040736875341390935)\n",
      "('std_err', 0.0059809030436505069)\n",
      "('intercept:', 9.7276681562694076)\n",
      "('NEGATIVE SLOPE:', True)\n",
      "\n",
      "\n",
      "('samplesize:', 19)\n",
      "('numberofpoints', 1)\n",
      "('pvalue:', nan)\n",
      "('rvalue:', 0.0)\n",
      "('slope:', nan)\n",
      "('std_err', nan)\n",
      "('intercept:', nan)\n",
      "('NEGATIVE SLOPE:', False)\n",
      "\n",
      "\n",
      "('samplesize:', 20)\n",
      "('numberofpoints', 5)\n",
      "('pvalue:', 0.68856847199153237)\n",
      "('rvalue:', -0.24713703581488847)\n",
      "('slope:', -0.0034181351107926824)\n",
      "('std_err', 0.0077375918873112109)\n",
      "('intercept:', 10.3494419509174)\n",
      "('NEGATIVE SLOPE:', True)\n",
      "\n",
      "\n",
      "('samplesize:', 21)\n",
      "('numberofpoints', 2)\n",
      "('pvalue:', nan)\n",
      "('rvalue:', 0.0)\n",
      "('slope:', 0.0)\n",
      "('std_err', nan)\n",
      "('intercept:', 11.0)\n",
      "('NEGATIVE SLOPE:', False)\n",
      "\n",
      "\n",
      "('samplesize:', 22)\n",
      "('numberofpoints', 2)\n",
      "('pvalue:', nan)\n",
      "('rvalue:', -1.0)\n",
      "('slope:', -0.0023159522864060838)\n",
      "('std_err', nan)\n",
      "('intercept:', 14.410009080417884)\n",
      "('NEGATIVE SLOPE:', True)\n",
      "\n",
      "\n"
     ]
    }
   ],
   "source": [
    "sample_sizes = np.unique(data.sample_size.values)\n",
    "slopes = []\n",
    "errors = []\n",
    "ses = []\n",
    "for s in sample_sizes:\n",
    "    subsample = data[data['sample_size'] == s]\n",
    "    print('samplesize:',s)\n",
    "    print('numberofpoints',subsample.shape[0])\n",
    "    slope, intercept, r_value, p_value, std_err = stats.linregress(subsample['distance_to_COM'], subsample['unique_combos'])    \n",
    "    print('pvalue:',p_value)\n",
    "    print('rvalue:',r_value)\n",
    "    print('slope:',slope)\n",
    "    print('std_err', std_err)\n",
    "    print('intercept:',intercept)\n",
    "    print('NEGATIVE SLOPE:',(slope<0))\n",
    "    print('\\n')\n",
    "    slopes.append(slope)\n",
    "    ses.append(s)\n",
    "    errors.append(std_err)\n",
    "    \n",
    "slopes = np.array(slopes)\n",
    "ses = np.array(ses)\n",
    "errors = np.array(errors)"
   ]
  },
  {
   "cell_type": "code",
   "execution_count": 124,
   "metadata": {
    "collapsed": false
   },
   "outputs": [
    {
     "name": "stdout",
     "output_type": "stream",
     "text": [
      "                            WLS Regression Results                            \n",
      "==============================================================================\n",
      "Dep. Variable:                      y   R-squared:                       0.692\n",
      "Model:                            WLS   Adj. R-squared:                  0.675\n",
      "Method:                 Least Squares   F-statistic:                     42.62\n",
      "Date:                Mon, 04 Jul 2016   Prob (F-statistic):           2.98e-06\n",
      "Time:                        15:55:40   Log-Likelihood:                   -inf\n",
      "No. Observations:                  20   AIC:                               inf\n",
      "Df Residuals:                      19   BIC:                               inf\n",
      "Df Model:                           1                                         \n",
      "Covariance Type:            nonrobust                                         \n",
      "==============================================================================\n",
      "                 coef    std err          t      P>|t|      [95.0% Conf. Int.]\n",
      "------------------------------------------------------------------------------\n",
      "x1            -0.0003    4.6e-05     -6.528      0.000        -0.000    -0.000\n",
      "==============================================================================\n",
      "Omnibus:                        8.629   Durbin-Watson:                   2.476\n",
      "Prob(Omnibus):                  0.013   Jarque-Bera (JB):                5.963\n",
      "Skew:                           1.194   Prob(JB):                       0.0507\n",
      "Kurtosis:                       4.207   Cond. No.                         1.00\n",
      "==============================================================================\n",
      "\n",
      "Warnings:\n",
      "[1] Standard Errors assume that the covariance matrix of the errors is correctly specified.\n"
     ]
    },
    {
     "data": {
      "text/plain": [
       "<matplotlib.text.Text at 0x10e18dd90>"
      ]
     },
     "execution_count": 124,
     "metadata": {},
     "output_type": "execute_result"
    },
    {
     "data": {
      "image/png": "[encoded data removed]",
      "text/plain": [
       "<matplotlib.figure.Figure at 0x10d4c93d0>"
      ]
     },
     "metadata": {},
     "output_type": "display_data"
    }
   ],
   "source": [
    "nanloc = np.isfinite(slopes)\n",
    "slopes = slopes[nanloc]\n",
    "ses = ses[nanloc]\n",
    "errors = errors[nanloc]\n",
    "plt.errorbar(ses, slopes,yerr=errors,fmt='o')\n",
    "plt.xlabel('sample size (s)')\n",
    "plt.ylabel('slope of regression of U=f(r|s), a_s')\n",
    "# slope, intercept, r_value, p_value, std_err = stats.linregress(ses, slopes)\n",
    "# weights = 1/(errors**2)\n",
    "weights = 1/(errors)\n",
    "weights[np.isnan(weights)] = 0\n",
    "sm.tools.add_constant(slopes)\n",
    "mod_wls = sm.WLS(slopes,ses,weights=weights,)\n",
    "res_wls = mod_wls.fit()\n",
    "print(res_wls.summary())\n",
    "sss = np.linspace(2,23,25)\n",
    "plt.plot(sss,res_wls.predict(sss),'r')\n",
    "plt.ylim([-0.01, 0.005])\n",
    "plt.title('Result of Regression')"
   ]
  },
  {
   "cell_type": "code",
   "execution_count": 125,
   "metadata": {
    "collapsed": false
   },
   "outputs": [
    {
     "data": {
      "text/plain": [
       "array([  2.97779747e-06])"
      ]
     },
     "execution_count": 125,
     "metadata": {},
     "output_type": "execute_result"
    }
   ],
   "source": [
    "res_wls.pvalues"
   ]
  },
  {
   "cell_type": "code",
   "execution_count": 126,
   "metadata": {
    "collapsed": false
   },
   "outputs": [
    {
     "data": {
      "text/plain": [
       "0.0025768280029296871"
      ]
     },
     "execution_count": 126,
     "metadata": {},
     "output_type": "execute_result"
    }
   ],
   "source": [
    "stats.binom_test(np.sum(slopes<0),n=slopes.shape[0])"
   ]
  },
  {
   "cell_type": "code",
   "execution_count": null,
   "metadata": {
    "collapsed": true
   },
   "outputs": [],
   "source": []
  }
 ],
 "metadata": {
  "kernelspec": {
   "display_name": "Python 2",
   "language": "python",
   "name": "python2"
  },
  "language_info": {
   "codemirror_mode": {
    "name": "ipython",
    "version": 2
   },
   "file_extension": ".py",
   "mimetype": "text/x-python",
   "name": "python",
   "nbconvert_exporter": "python",
   "pygments_lexer": "ipython2",
   "version": "2.7.10"
  }
 },
 "nbformat": 4,
 "nbformat_minor": 0
}
