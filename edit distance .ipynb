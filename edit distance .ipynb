{
 "cells": [
  {
   "cell_type": "code",
   "execution_count": 1,
   "metadata": {
    "collapsed": true
   },
   "outputs": [],
   "source": [
    "genom1 = [11757, 17508, 17946, 36905, 83079, 107487, 117566, 1074768, 1411266, 2005200, 2436283, 2451158, 2741997, 2881219, 7638422, 12087629, 12590759, 14241254, 14489208, 16366532, 26608895, 37877901, 41521312, 1074740203, 1075689359]\n",
    "genom2 = [465, 17508, 17946, 36905, 107487, 117566, 141994, 552886, 1252732, 1319253, 2451158, 2741997, 2881219, 7733442, 8441963, 14241254, 14489208, 15428688, 29245190, 36141592, 41521312, 49896612, 61682508, 1074740203, 1076013383]\n",
    "genom3 = [17508, 17946, 21135, 36905, 92344, 107487, 117566, 246229, 397950, 747424, 2033486, 2451158, 2741997, 2881219, 11379286, 11645291, 14241254, 14489208, 18437388, 33586170, 35847990, 41521312, 59680175, 1074740203,1077131872]"
   ]
  },
  {
   "cell_type": "code",
   "execution_count": 19,
   "metadata": {
    "collapsed": true
   },
   "outputs": [],
   "source": [
    "import numpy as np"
   ]
  },
  {
   "cell_type": "code",
   "execution_count": 72,
   "metadata": {
    "collapsed": true
   },
   "outputs": [],
   "source": [
    "def convert_to_genomes(genomes):\n",
    "    snps = set()\n",
    "    [snps.update(genome) for genome in genomes]\n",
    "    snp2index = {v:i for i, v in enumerate(snps)}\n",
    "    converted = np.zeros((len(genomes), max(snp2index.values())+1))\n",
    "    for genome_id, genome in enumerate(genomes):\n",
    "        for snp_id in genome:\n",
    "#             print(snp2index[snp_id])\n",
    "            converted[genome_id, snp2index[snp_id]] = 1\n",
    "#     print(snp2index)\n",
    "    return converted, snp2index"
   ]
  },
  {
   "cell_type": "code",
   "execution_count": 73,
   "metadata": {},
   "outputs": [
    {
     "data": {
      "text/plain": [
       "(3, 51)"
      ]
     },
     "execution_count": 73,
     "metadata": {},
     "output_type": "execute_result"
    }
   ],
   "source": [
    "convert_to_genomes([genom1, genom2, genom3]).shape"
   ]
  },
  {
   "cell_type": "code",
   "execution_count": 74,
   "metadata": {
    "collapsed": true
   },
   "outputs": [],
   "source": [
    "from scipy.spatial.distance import pdist,squareform"
   ]
  },
  {
   "cell_type": "code",
   "execution_count": 75,
   "metadata": {
    "scrolled": true
   },
   "outputs": [
    {
     "data": {
      "text/plain": [
       "(3, 51)"
      ]
     },
     "execution_count": 75,
     "metadata": {},
     "output_type": "execute_result"
    }
   ],
   "source": [
    "genomes.shape"
   ]
  },
  {
   "cell_type": "code",
   "execution_count": 76,
   "metadata": {
    "collapsed": true
   },
   "outputs": [],
   "source": [
    "def edit_distance(a,b):\n",
    "    return np.sum(np.abs(a-b))"
   ]
  },
  {
   "cell_type": "code",
   "execution_count": 77,
   "metadata": {
    "collapsed": true
   },
   "outputs": [],
   "source": [
    "genomes = convert_to_genomes([[2, 3, 5], [2, 3, 4], [2, 3]])"
   ]
  },
  {
   "cell_type": "code",
   "execution_count": 78,
   "metadata": {},
   "outputs": [
    {
     "data": {
      "text/plain": [
       "array([[1., 1., 0., 1.],\n",
       "       [1., 1., 1., 0.],\n",
       "       [1., 1., 0., 0.]])"
      ]
     },
     "execution_count": 78,
     "metadata": {},
     "output_type": "execute_result"
    }
   ],
   "source": [
    "genomes"
   ]
  },
  {
   "cell_type": "code",
   "execution_count": 1,
   "metadata": {
    "collapsed": true
   },
   "outputs": [],
   "source": [
    "from collections import Counter"
   ]
  },
  {
   "cell_type": "code",
   "execution_count": 6,
   "metadata": {},
   "outputs": [
    {
     "data": {
      "text/plain": [
       "2"
      ]
     },
     "execution_count": 6,
     "metadata": {},
     "output_type": "execute_result"
    }
   ],
   "source": [
    "[2, 3, 1]"
   ]
  },
  {
   "cell_type": "code",
   "execution_count": 105,
   "metadata": {},
   "outputs": [],
   "source": [
    "def neighbor_joining_tree(genomes):\n",
    "    counter = Counter()\n",
    "    [counter.update(genome) for genome in genomes]\n",
    "    count_order = counter.most_common()\n",
    "    \n",
    "    def split(genomes_L, genomes_R, count_order, split_on):\n",
    "        print(split_on)\n",
    "        snp_id, count = count_order[split_on]\n",
    "        \n",
    "        if len(genomes_L) >= 1 and split_on < len(count_order)-1:\n",
    "            genomes_in_L = []\n",
    "            genomes_not_L = []\n",
    "\n",
    "            for genome in genomes_L:\n",
    "                if snp_id in genome:\n",
    "                    genomes_in_L.append(genome)\n",
    "                else:\n",
    "                    genomes_not_L.append(genome)\n",
    "            L_processed = split(genomes_in_L, genomes_not_L, count_order, split_on+1)\n",
    "            \n",
    "        else:\n",
    "            L_processed = genomes_L\n",
    "        \n",
    "        if len(genomes_R) >= 1 and split_on < len(count_order)-1:\n",
    "            genomes_in_R = []\n",
    "            genomes_not_R = []\n",
    "\n",
    "            for genome in genomes_R:\n",
    "                if snp_id in genome:\n",
    "                    genomes_in_R.append(genome)\n",
    "                else:\n",
    "                    genomes_not_R.append(genome)\n",
    "            R_processed = split(genomes_in_R, genomes_not_R, count_order, split_on+1)\n",
    "        else:\n",
    "            R_processed = genomes_R\n",
    "        \n",
    "        to_return = []\n",
    "        if len(L_processed) > 0: to_return+= [L_processed]\n",
    "        if len(R_processed) > 0: to_return += [R_processed]\n",
    "        return tuple(to_return)\n",
    "    \n",
    "    return split(genomes, [], count_order, 0)\n",
    "    "
   ]
  },
  {
   "cell_type": "code",
   "execution_count": 107,
   "metadata": {
    "collapsed": true
   },
   "outputs": [],
   "source": [
    "from newick import loads"
   ]
  },
  {
   "cell_type": "code",
   "execution_count": 118,
   "metadata": {},
   "outputs": [
    {
     "name": "stdout",
     "output_type": "stream",
     "text": [
      "                    ┌─── ┌─── ┌─A\n",
      "            ┌─── ┌───┤\n",
      "            │       └─── ┌─── ┌─B\n",
      "──── ┌─── ┌───┤\n",
      "            │           ┌─── ┌─C\n",
      "            └─── ┌─── ┌───┤\n",
      "                        └─── ┌─D\n"
     ]
    }
   ],
   "source": [
    "print(tree[0].ascii_art())"
   ]
  },
  {
   "cell_type": "code",
   "execution_count": 120,
   "metadata": {},
   "outputs": [
    {
     "name": "stdout",
     "output_type": "stream",
     "text": [
      "0\n",
      "1\n",
      "2\n",
      "3\n",
      "4\n",
      "5\n",
      "6\n",
      "5\n",
      "6\n",
      "3\n",
      "4\n",
      "5\n",
      "6\n",
      "6\n"
     ]
    },
    {
     "data": {
      "text/plain": [
       "((((((([[1, 2, 6]],),), (([[1, 2, 7]],),)),),\n",
       "   (((([[1, 3, 4]],), ([[1, 3, 5]],)),),)),),)"
      ]
     },
     "execution_count": 120,
     "metadata": {},
     "output_type": "execute_result"
    }
   ],
   "source": [
    "neighbor_joining_tree([[1,2,6], [1,3,4], [1,2,7], [1,3,5]])"
   ]
  },
  {
   "cell_type": "code",
   "execution_count": 66,
   "metadata": {
    "collapsed": true
   },
   "outputs": [],
   "source": [
    "import pprint"
   ]
  },
  {
   "cell_type": "code",
   "execution_count": 72,
   "metadata": {
    "collapsed": true
   },
   "outputs": [],
   "source": [
    "from itertools import chain"
   ]
  },
  {
   "cell_type": "code",
   "execution_count": 102,
   "metadata": {
    "collapsed": true
   },
   "outputs": [],
   "source": [
    "def remove_lists(list_of_lists, list_maker=[]):\n",
    "    if type(list_of_lists) is list and type(list_of_lists[0]) is not list:\n",
    "        print('returning: ', list_of_lists)\n",
    "        list_maker.append(list_of_lists)\n",
    "        return list_maker\n",
    "    for list_ in list_of_lists:\n",
    "        print('checking ', list_)\n",
    "        if type(list_) is list and type(list_[0]) is list and len(list_) == 1:\n",
    "            if type(list_[0]) is list:\n",
    "                remove_lists(list_[0], list_maker)\n",
    "            else:\n",
    "                list_maker.append(list_[0])\n",
    "    return list_maker"
   ]
  },
  {
   "cell_type": "code",
   "execution_count": null,
   "metadata": {
    "collapsed": true
   },
   "outputs": [],
   "source": [
    "[[[[[[[['A']]], [[['B']]]]], [[[[['C']], [['D']]]]]]]]"
   ]
  },
  {
   "cell_type": "code",
   "execution_count": 104,
   "metadata": {},
   "outputs": [
    {
     "name": "stdout",
     "output_type": "stream",
     "text": [
      "0\n",
      "1\n",
      "2\n",
      "3\n",
      "4\n",
      "5\n",
      "6\n",
      "5\n",
      "6\n",
      "3\n",
      "4\n",
      "5\n",
      "6\n",
      "6\n"
     ]
    },
    {
     "data": {
      "text/plain": [
       "[[[[[[[[[1, 2, 6]]]], [[[[1, 2, 7]]]]]], [[[[[[1, 3, 4]]], [[[1, 3, 5]]]]]]]]]"
      ]
     },
     "execution_count": 104,
     "metadata": {},
     "output_type": "execute_result"
    }
   ],
   "source": [
    "neighbor_joining_tree([[1,2,6], [1,3,4], [1,2,7], [1,3,5]])"
   ]
  },
  {
   "cell_type": "code",
   "execution_count": 50,
   "metadata": {},
   "outputs": [
    {
     "ename": "NameError",
     "evalue": "name 'squareform' is not defined",
     "output_type": "error",
     "traceback": [
      "\u001b[0;31m---------------------------------------------------------------------------\u001b[0m",
      "\u001b[0;31mNameError\u001b[0m                                 Traceback (most recent call last)",
      "\u001b[0;32m<ipython-input-50-bc71e1ca4b74>\u001b[0m in \u001b[0;36m<module>\u001b[0;34m()\u001b[0m\n\u001b[0;32m----> 1\u001b[0;31m \u001b[0msquareform\u001b[0m\u001b[0;34m(\u001b[0m\u001b[0mpdist\u001b[0m\u001b[0;34m(\u001b[0m\u001b[0mconvert_to_genomes\u001b[0m\u001b[0;34m(\u001b[0m\u001b[0;34m[\u001b[0m\u001b[0;34m[\u001b[0m\u001b[0;36m2\u001b[0m\u001b[0;34m,\u001b[0m \u001b[0;36m3\u001b[0m\u001b[0;34m,\u001b[0m \u001b[0;36m5\u001b[0m\u001b[0;34m]\u001b[0m\u001b[0;34m,\u001b[0m \u001b[0;34m[\u001b[0m\u001b[0;36m2\u001b[0m\u001b[0;34m,\u001b[0m \u001b[0;36m3\u001b[0m\u001b[0;34m,\u001b[0m \u001b[0;36m4\u001b[0m\u001b[0;34m]\u001b[0m\u001b[0;34m,\u001b[0m \u001b[0;34m[\u001b[0m\u001b[0;36m2\u001b[0m\u001b[0;34m,\u001b[0m \u001b[0;36m3\u001b[0m\u001b[0;34m]\u001b[0m\u001b[0;34m]\u001b[0m\u001b[0;34m)\u001b[0m\u001b[0;34m,\u001b[0m \u001b[0mmetric\u001b[0m\u001b[0;34m=\u001b[0m\u001b[0medit_distance\u001b[0m\u001b[0;34m,\u001b[0m \u001b[0;34m)\u001b[0m\u001b[0;34m)\u001b[0m\u001b[0;34m\u001b[0m\u001b[0m\n\u001b[0m",
      "\u001b[0;31mNameError\u001b[0m: name 'squareform' is not defined"
     ]
    }
   ],
   "source": [
    "squareform(pdist(convert_to_genomes([[2, 3, 5], [2, 3, 4], [2, 3]]), metric=edit_distance, ))"
   ]
  },
  {
   "cell_type": "code",
   "execution_count": null,
   "metadata": {
    "collapsed": true
   },
   "outputs": [],
   "source": []
  },
  {
   "cell_type": "code",
   "execution_count": 6,
   "metadata": {
    "collapsed": true
   },
   "outputs": [],
   "source": [
    "genome1 = set([11757, 17508, 17946, 36905, 83079, 107487, 117566, 1074768, 1411266, 2005200, 2436283, 2451158, 2741997, 2881219, 7638422, 12087629, 12590759, 14241254, 14489208, 16366532, 26608895, 37877901, 41521312, 1074740203, 1075689359])\n",
    "genome2 = set([465, 17508, 17946, 36905, 107487, 117566, 141994, 552886, 1252732, 1319253, 2451158, 2741997, 2881219, 7733442, 8441963, 14241254, 14489208, 15428688, 29245190, 36141592, 41521312, 49896612, 61682508, 1074740203, 1076013383])"
   ]
  }
 ],
 "metadata": {
  "kernelspec": {
   "display_name": "Python 3",
   "language": "python",
   "name": "python3"
  },
  "language_info": {
   "codemirror_mode": {
    "name": "ipython",
    "version": 3
   },
   "file_extension": ".py",
   "mimetype": "text/x-python",
   "name": "python",
   "nbconvert_exporter": "python",
   "pygments_lexer": "ipython3",
   "version": "3.6.3"
  }
 },
 "nbformat": 4,
 "nbformat_minor": 2
}
