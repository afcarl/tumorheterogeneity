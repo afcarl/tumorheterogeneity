{
 "cells": [
  {
   "cell_type": "code",
   "execution_count": 1,
   "metadata": {
    "collapsed": true
   },
   "outputs": [],
   "source": [
    "genom1 = [11757, 17508, 17946, 36905, 83079, 107487, 117566, 1074768, 1411266, 2005200, 2436283, 2451158, 2741997, 2881219, 7638422, 12087629, 12590759, 14241254, 14489208, 16366532, 26608895, 37877901, 41521312, 1074740203, 1075689359]\n",
    "genom2 = [465, 17508, 17946, 36905, 107487, 117566, 141994, 552886, 1252732, 1319253, 2451158, 2741997, 2881219, 7733442, 8441963, 14241254, 14489208, 15428688, 29245190, 36141592, 41521312, 49896612, 61682508, 1074740203, 1076013383]\n",
    "genom3 = [17508, 17946, 21135, 36905, 92344, 107487, 117566, 246229, 397950, 747424, 2033486, 2451158, 2741997, 2881219, 11379286, 11645291, 14241254, 14489208, 18437388, 33586170, 35847990, 41521312, 59680175, 1074740203,1077131872]"
   ]
  },
  {
   "cell_type": "code",
   "execution_count": 19,
   "metadata": {
    "collapsed": true
   },
   "outputs": [],
   "source": [
    "import numpy as np"
   ]
  },
  {
   "cell_type": "code",
   "execution_count": 72,
   "metadata": {
    "collapsed": true
   },
   "outputs": [],
   "source": [
    "def convert_to_genomes(genomes):\n",
    "    snps = set()\n",
    "    [snps.update(genome) for genome in genomes]\n",
    "    snp2index = {v:i for i, v in enumerate(snps)}\n",
    "    converted = np.zeros((len(genomes), max(snp2index.values())+1))\n",
    "    for genome_id, genome in enumerate(genomes):\n",
    "        for snp_id in genome:\n",
    "#             print(snp2index[snp_id])\n",
    "            converted[genome_id, snp2index[snp_id]] = 1\n",
    "#     print(snp2index)\n",
    "    return converted"
   ]
  },
  {
   "cell_type": "code",
   "execution_count": 73,
   "metadata": {},
   "outputs": [
    {
     "data": {
      "text/plain": [
       "(3, 51)"
      ]
     },
     "execution_count": 73,
     "metadata": {},
     "output_type": "execute_result"
    }
   ],
   "source": [
    "convert_to_genomes([genom1, genom2, genom3]).shape"
   ]
  },
  {
   "cell_type": "code",
   "execution_count": 74,
   "metadata": {
    "collapsed": true
   },
   "outputs": [],
   "source": [
    "from scipy.spatial.distance import pdist,squareform"
   ]
  },
  {
   "cell_type": "code",
   "execution_count": 75,
   "metadata": {
    "scrolled": true
   },
   "outputs": [
    {
     "data": {
      "text/plain": [
       "(3, 51)"
      ]
     },
     "execution_count": 75,
     "metadata": {},
     "output_type": "execute_result"
    }
   ],
   "source": [
    "genomes.shape"
   ]
  },
  {
   "cell_type": "code",
   "execution_count": 76,
   "metadata": {
    "collapsed": true
   },
   "outputs": [],
   "source": [
    "def edit_distance(a,b):\n",
    "    return np.sum(np.abs(a-b))"
   ]
  },
  {
   "cell_type": "code",
   "execution_count": 77,
   "metadata": {},
   "outputs": [],
   "source": [
    "genomes = convert_to_genomes([[2, 3, 5], [2, 3, 4], [2, 3]])"
   ]
  },
  {
   "cell_type": "code",
   "execution_count": 78,
   "metadata": {},
   "outputs": [
    {
     "data": {
      "text/plain": [
       "array([[1., 1., 0., 1.],\n",
       "       [1., 1., 1., 0.],\n",
       "       [1., 1., 0., 0.]])"
      ]
     },
     "execution_count": 78,
     "metadata": {},
     "output_type": "execute_result"
    }
   ],
   "source": [
    "genomes"
   ]
  },
  {
   "cell_type": "code",
   "execution_count": 81,
   "metadata": {},
   "outputs": [
    {
     "data": {
      "text/plain": [
       "array([[0., 2., 1.],\n",
       "       [2., 0., 1.],\n",
       "       [1., 1., 0.]])"
      ]
     },
     "execution_count": 81,
     "metadata": {},
     "output_type": "execute_result"
    }
   ],
   "source": [
    "squareform(pdist(convert_to_genomes([[2, 3, 5], [2, 3, 4], [2, 3]]), metric=edit_distance, ))"
   ]
  },
  {
   "cell_type": "code",
   "execution_count": 6,
   "metadata": {
    "collapsed": true
   },
   "outputs": [],
   "source": [
    "genome1 = set([11757, 17508, 17946, 36905, 83079, 107487, 117566, 1074768, 1411266, 2005200, 2436283, 2451158, 2741997, 2881219, 7638422, 12087629, 12590759, 14241254, 14489208, 16366532, 26608895, 37877901, 41521312, 1074740203, 1075689359])\n",
    "genome2 = set([465, 17508, 17946, 36905, 107487, 117566, 141994, 552886, 1252732, 1319253, 2451158, 2741997, 2881219, 7733442, 8441963, 14241254, 14489208, 15428688, 29245190, 36141592, 41521312, 49896612, 61682508, 1074740203, 1076013383])"
   ]
  }
 ],
 "metadata": {
  "kernelspec": {
   "display_name": "Python 3",
   "language": "python",
   "name": "python3"
  },
  "language_info": {
   "codemirror_mode": {
    "name": "ipython",
    "version": 3
   },
   "file_extension": ".py",
   "mimetype": "text/x-python",
   "name": "python",
   "nbconvert_exporter": "python",
   "pygments_lexer": "ipython3",
   "version": "3.6.1"
  }
 },
 "nbformat": 4,
 "nbformat_minor": 2
}
