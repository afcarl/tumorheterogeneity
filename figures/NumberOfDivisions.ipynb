{
 "cells": [
  {
   "cell_type": "markdown",
   "metadata": {},
   "source": [
    "This script will generate the data for Table S1"
   ]
  },
  {
   "cell_type": "code",
   "execution_count": 1,
   "metadata": {
    "collapsed": false
   },
   "outputs": [
    {
     "name": "stdout",
     "output_type": "stream",
     "text": [
      "Populating the interactive namespace from numpy and matplotlib\n"
     ]
    },
    {
     "data": {
      "text/plain": [
       "<matplotlib.figure.Figure at 0x10d888510>"
      ]
     },
     "metadata": {},
     "output_type": "display_data"
    }
   ],
   "source": [
    "%pylab inline\n",
    "import seaborn as sns\n",
    "from glob import glob"
   ]
  },
  {
   "cell_type": "code",
   "execution_count": 32,
   "metadata": {
    "collapsed": false
   },
   "outputs": [
    {
     "name": "stdout",
     "output_type": "stream",
     "text": [
      "\n",
      "No Turnover mean number of divisions: 223.206451768\n",
      "No Turnover SD number of divisions: 11.5346942989\n",
      "Surface Turnover mean number of divisions: 423.953161955\n",
      "Surface Turnover SD number of divisions: 16.7146524242\n",
      "Turnover mean number of divisions: 1751.27426105\n",
      "Turnover SD number of divisions: 63.0993025814\n"
     ]
    }
   ],
   "source": [
    "mutation_rate = 0.0375 # this is the mutation rate in the simulations\n",
    "\n",
    "death_rate = '065' # vary this between 0, 005, 01, 02 and 065\n",
    "\n",
    "root_folder = '/Volumes/Stockage/u0.03simulations/'\n",
    "mappings = [ root_folder+'1_0_0_*',\n",
    "            root_folder+'1_1_'+death_rate+'_*',\n",
    "           root_folder+'1_0_'+death_rate+'_*']\n",
    "\n",
    "print\n",
    "for mapping, model_name in zip(mappings, ['No Turnover', 'Surface Turnover', 'Turnover']):\n",
    "\n",
    "    replicates = glob(mapping)\n",
    "    \n",
    "    all_data = []\n",
    "    for replicate_folder in replicates:\n",
    "        try:\n",
    "            datafile = glob(replicate_folder+'/*/statistics.csv')[0]\n",
    "            mean_SNPs_in_clusters = np.mean(pd.read_csv(datafile)['mean_SNPs'])/mutation_rate\n",
    "            all_data.append(mean_SNPs_in_clusters)\n",
    "        except Exception as e:\n",
    "            pass\n",
    "#             print 'Exception: '+str(e)\n",
    "#             print 'Folder Skipped: '+replicate_folder\n",
    "    \n",
    "    print model_name+ ' mean number of divisions: '+str(np.mean(all_data))\n",
    "    print model_name+ ' SD number of divisions: '+str(np.std(all_data))\n"
   ]
  },
  {
   "cell_type": "code",
   "execution_count": null,
   "metadata": {
    "collapsed": true
   },
   "outputs": [],
   "source": []
  }
 ],
 "metadata": {
  "anaconda-cloud": {},
  "kernelspec": {
   "display_name": "Python [Root]",
   "language": "python",
   "name": "Python [Root]"
  },
  "language_info": {
   "codemirror_mode": {
    "name": "ipython",
    "version": 2
   },
   "file_extension": ".py",
   "mimetype": "text/x-python",
   "name": "python",
   "nbconvert_exporter": "python",
   "pygments_lexer": "ipython2",
   "version": "2.7.12"
  }
 },
 "nbformat": 4,
 "nbformat_minor": 0
}
