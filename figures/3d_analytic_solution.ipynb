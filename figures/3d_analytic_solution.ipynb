{
 "cells": [
  {
   "cell_type": "code",
   "execution_count": 1,
   "metadata": {
    "collapsed": false
   },
   "outputs": [
    {
     "name": "stdout",
     "output_type": "stream",
     "text": [
      "Populating the interactive namespace from numpy and matplotlib\n"
     ]
    }
   ],
   "source": [
    "import numpy as np\n",
    "import seaborn as sns\n",
    "%pylab inline\n",
    "from scipy import stats"
   ]
  },
  {
   "cell_type": "code",
   "execution_count": 2,
   "metadata": {
    "collapsed": false
   },
   "outputs": [],
   "source": [
    "pi = np.pi\n",
    "a = 1\n",
    "R = 300"
   ]
  },
  {
   "cell_type": "markdown",
   "metadata": {},
   "source": [
    "# 3D case"
   ]
  },
  {
   "cell_type": "code",
   "execution_count": 3,
   "metadata": {
    "collapsed": true
   },
   "outputs": [],
   "source": [
    "# this is what we will use to find the roots of to get the radius\n",
    "# for a specific frequency value\n",
    "r_f = lambda r, f, R, a: f - (a**2/(4*pi))*(1/r**2 - r/R**3)\n",
    "r_f_ = np.vectorize(r_f)"
   ]
  },
  {
   "cell_type": "code",
   "execution_count": 4,
   "metadata": {
    "collapsed": false
   },
   "outputs": [
    {
     "data": {
      "text/plain": [
       "<matplotlib.text.Text at 0x1092ee080>"
      ]
     },
     "execution_count": 4,
     "metadata": {},
     "output_type": "execute_result"
    },
    {
     "data": {
      "image/png": "[encoded data removed]",
      "text/plain": [
       "<matplotlib.figure.Figure at 0x10923e4a8>"
      ]
     },
     "metadata": {},
     "output_type": "display_data"
    }
   ],
   "source": [
    "r_ = np.linspace(0.01, R)\n",
    "for f_ in np.linspace(0.0001,1, num=10):\n",
    "    plt.plot(r_, r_f_(r_, f_, R, a), label='f='+str(f_))\n",
    "plt.ylim([-0.3,1])\n",
    "plt.xlim([0,10])\n",
    "plt.legend()\n",
    "plt.title('Optimal \"guess\" of the initial value')"
   ]
  },
  {
   "cell_type": "code",
   "execution_count": 5,
   "metadata": {
    "collapsed": true
   },
   "outputs": [],
   "source": [
    "from scipy import optimize"
   ]
  },
  {
   "cell_type": "code",
   "execution_count": 6,
   "metadata": {
    "collapsed": true
   },
   "outputs": [],
   "source": [
    "def pf_3d(f, R, a):\n",
    "    # find the root\n",
    "    r_ = optimize.root(r_f, 1, args=(f, R, a)).x[0]\n",
    "    return ((8*pi**2)/a**2)*(r_**5/(1+r_**3/(2*R**3)))"
   ]
  },
  {
   "cell_type": "code",
   "execution_count": 7,
   "metadata": {
    "collapsed": false
   },
   "outputs": [],
   "source": [
    "sns.set_style('white')"
   ]
  },
  {
   "cell_type": "code",
   "execution_count": 1,
   "metadata": {
    "collapsed": false
   },
   "outputs": [
    {
     "ename": "NameError",
     "evalue": "name 'np' is not defined",
     "output_type": "error",
     "traceback": [
      "\u001b[0;31m---------------------------------------------------------------------------\u001b[0m",
      "\u001b[0;31mNameError\u001b[0m                                 Traceback (most recent call last)",
      "\u001b[0;32m<ipython-input-1-9727f740b0ac>\u001b[0m in \u001b[0;36m<module>\u001b[0;34m()\u001b[0m\n\u001b[0;32m----> 1\u001b[0;31m \u001b[0mf\u001b[0m \u001b[0;34m=\u001b[0m \u001b[0mnp\u001b[0m\u001b[0;34m.\u001b[0m\u001b[0mlinspace\u001b[0m\u001b[0;34m(\u001b[0m\u001b[0;36m0.000001\u001b[0m\u001b[0;34m,\u001b[0m\u001b[0;36m0.20\u001b[0m\u001b[0;34m,\u001b[0m\u001b[0mnum\u001b[0m\u001b[0;34m=\u001b[0m\u001b[0;36m1000\u001b[0m\u001b[0;34m)\u001b[0m\u001b[0;34m\u001b[0m\u001b[0m\n\u001b[0m\u001b[1;32m      2\u001b[0m \u001b[0;34m\u001b[0m\u001b[0m\n\u001b[1;32m      3\u001b[0m \u001b[0;31m# plt.figure(figsize=(10,3.5))\u001b[0m\u001b[0;34m\u001b[0m\u001b[0;34m\u001b[0m\u001b[0m\n\u001b[1;32m      4\u001b[0m \u001b[0;34m\u001b[0m\u001b[0m\n\u001b[1;32m      5\u001b[0m \u001b[0mplt\u001b[0m\u001b[0;34m.\u001b[0m\u001b[0msubplot\u001b[0m\u001b[0;34m(\u001b[0m\u001b[0;36m111\u001b[0m\u001b[0;34m)\u001b[0m\u001b[0;34m\u001b[0m\u001b[0m\n",
      "\u001b[0;31mNameError\u001b[0m: name 'np' is not defined"
     ]
    }
   ],
   "source": [
    "f = np.linspace(0.000001,0.20,num=1000)\n",
    "\n",
    "# plt.figure(figsize=(10,3.5))\n",
    "\n",
    "plt.subplot(111)\n",
    "\n",
    "pf_3d_ = np.vectorize(pf_3d)\n",
    "pdf = pf_3d_(f, R, a)\n",
    "not_nans = np.logical_not(np.isnan(np.log10(pdf)))\n",
    "plt.plot(np.log10(f)[not_nans], np.log10(pdf)[not_nans])\n",
    "# plt.plot(np.ones(50)*-3.75, np.linspace(0,18), '--')\n",
    "plt.xlabel('log10(frequency)')\n",
    "plt.ylabel('log10(p(f))')\n",
    "# plt.ylim([0,8])\n",
    "sns.despine()\n",
    "\n",
    "# lt3 = np.logspace(-10,-3.75)\n",
    "# p_lt3 = pf_3d_(lt3, R, a)\n",
    "# lt3_results = stats.linregress(np.log10(lt3), np.log10(p_lt3))\n",
    "\n",
    "# gt3 = np.logspace(-3.75,0.0000000001)\n",
    "# p_gt3 = pf_3d_(gt3, R, a)\n",
    "# gt3_results = stats.linregress(np.log10(gt3)[:-9], np.log10(p_gt3)[:-9])\n",
    "\n",
    "plt.text(-5,10.5, 'slope = '+str(np.around(lt3_results.slope, 2)))\n",
    "plt.text(-3,8.5, 'slope = '+str(np.around(gt3_results.slope, 2)))\n",
    "\n",
    "plt.ylim(ymin=0)\n",
    "plt.title('3D Spherical Tumor Growth')\n",
    "\n",
    "\n",
    "# plt.subplot(122)\n",
    "\n",
    "# # the radius as a function of frequency (solved by hand)\n",
    "# r = lambda f, R, a: (np.sqrt((pi*f*R**2)**2+a*R**2)-pi*f*R**2)/a\n",
    "\n",
    "# # the probability of observing a certain frequency\n",
    "# pf = lambda f, R, a: ((4*pi**2/a) * r(f, R, a)**3)/(1+a*r(f,R,a)**2/R**2)\n",
    "\n",
    "# # get frequencies from ≈0 to 1\n",
    "# f = np.linspace(0.0000000001,1,num=1000)\n",
    "\n",
    "# pf_ = np.vectorize(pf) # vectorize for easier evaluation\n",
    "# pdf = pf_(f, R, a)\n",
    "\n",
    "# plt.plot(np.log10(f), np.log10(pdf))\n",
    "# plt.plot(np.ones(50)*-3, np.linspace(0,8), '--')\n",
    "# plt.xlabel('log10(frequency)')\n",
    "# plt.ylabel('log10(p(f))')\n",
    "# plt.ylim([0,8])\n",
    "# sns.despine()\n",
    "# plt.title('2D Circular Tumor Growth')\n",
    "\n",
    "# lt3 = np.logspace(-10,-3)\n",
    "# p_lt3 = pf_(lt3, R, a)\n",
    "# lt3_results = stats.linregress(np.log10(lt3), np.log10(p_lt3))\n",
    "\n",
    "# gt3 = np.logspace(-3,0.0000000001)\n",
    "# p_gt3 = pf_(gt3, R, a)\n",
    "# gt3_results = stats.linregress(np.log10(gt3)[:-9], np.log10(p_gt3)[:-9])\n",
    "\n",
    "# plt.text(-8,7.5, 'slope = '+str(lt3_results.slope))\n",
    "# plt.text(-2,6.5, 'slope = '+str(gt3_results.slope))\n",
    "\n",
    "\n",
    "# sns.despine()\n",
    "\n",
    "# plt.savefig('3D_growth.pdf')\n"
   ]
  },
  {
   "cell_type": "code",
   "execution_count": null,
   "metadata": {
    "collapsed": true
   },
   "outputs": [],
   "source": []
  }
 ],
 "metadata": {
  "anaconda-cloud": {},
  "kernelspec": {
   "display_name": "Python [py36]",
   "language": "python",
   "name": "Python [py36]"
  },
  "language_info": {
   "codemirror_mode": {
    "name": "ipython",
    "version": 3
   },
   "file_extension": ".py",
   "mimetype": "text/x-python",
   "name": "python",
   "nbconvert_exporter": "python",
   "pygments_lexer": "ipython3",
   "version": "3.6.0"
  }
 },
 "nbformat": 4,
 "nbformat_minor": 0
}
