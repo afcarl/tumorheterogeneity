{
 "cells": [
  {
   "cell_type": "code",
   "execution_count": 444,
   "metadata": {
    "collapsed": false
   },
   "outputs": [
    {
     "name": "stdout",
     "output_type": "stream",
     "text": [
      "Populating the interactive namespace from numpy and matplotlib\n"
     ]
    },
    {
     "name": "stderr",
     "output_type": "stream",
     "text": [
      "/Users/zaf/anaconda/lib/python2.7/site-packages/IPython/core/magics/pylab.py:161: UserWarning: pylab import has clobbered these variables: ['split']\n",
      "`%matplotlib` prevents importing * from pylab and numpy\n",
      "  \"\\n`%matplotlib` prevents importing * from pylab and numpy\"\n"
     ]
    }
   ],
   "source": [
    "%pylab inline\n",
    "import string"
   ]
  },
  {
   "cell_type": "code",
   "execution_count": 446,
   "metadata": {
    "collapsed": true
   },
   "outputs": [],
   "source": [
    "def split(genomes, by):\n",
    "    L = []\n",
    "    R = []\n",
    "    if len(genomes) == 1:\n",
    "        return genomes, R\n",
    "    for g in genomes:\n",
    "        if by in g:\n",
    "            L.append(g)\n",
    "        else:\n",
    "            R.append(g)\n",
    "    return L, R\n",
    "\n",
    "def prepare_snp_data(genomes):\n",
    "    data = set(map(frozenset, [[-1]+g for g in genomes]))\n",
    "    all_snps = Counter()\n",
    "    [all_snps.update(data_) for data_ in data]\n",
    "    return data, all_snps\n"
   ]
  },
  {
   "cell_type": "code",
   "execution_count": 479,
   "metadata": {
    "collapsed": false
   },
   "outputs": [],
   "source": [
    "class Node(object):\n",
    "    def __init__(self, genomes, all_snps=None, snp_to_check=-1):\n",
    "        self.genomes = genomes\n",
    "        self.branch_length = 0\n",
    "        self.resolved = False\n",
    "        self.snp_to_check = snp_to_check\n",
    "        self.all_snps = all_snps\n",
    "        self.L = None\n",
    "        self.R = None\n",
    "        self.descendants = len(genomes)\n",
    "#         print('CREATED NEW NODE:', genomes, snp_to_check)\n",
    "        \n",
    "    def resolve(self):\n",
    "        if self.resolved:\n",
    "            return\n",
    "        if self.snp_to_check is None or self.all_snps is None:\n",
    "            self.resolved=True\n",
    "            return\n",
    "        \n",
    "        L, R = [], []\n",
    "        while len(L) == 0 or len(R) == 0:\n",
    "            if self.snp_to_check+1 >= len(self.all_snps):\n",
    "                # run out of snps to check\n",
    "                self.snp_to_check = None\n",
    "                self.resolved = True\n",
    "                # do nothing here. just exit\n",
    "                return\n",
    "            else:\n",
    "                # increment the snp we are checking\n",
    "                self.snp_to_check += 1\n",
    "#             print('checking', self.all_snps[self.snp_to_check][0])\n",
    "            # attempt to do a split\n",
    "            L, R = split(self.genomes, self.all_snps[self.snp_to_check][0])\n",
    "            if len(R) == 0 and len(L) != 0:\n",
    "                # everyone is on the same branch\n",
    "                # just increase the length of this one\n",
    "                if self.all_snps[self.snp_to_check][0] in L[0]:\n",
    "                    self.branch_length += 1\n",
    "        \n",
    "        # we exit this loop, this means that\n",
    "        # we have an non trivial split.\n",
    "        self.resolved = True\n",
    "\n",
    "        # first deal with the left branch these are the ones that have.\n",
    "        # avoid checking the same snp again so self.snp_to_check + 1\n",
    "        self.L = Node(L, self.all_snps, self.snp_to_check)\n",
    "        # increase the branch length because we know everyone on L\n",
    "        # has this snp.\n",
    "        self.L.branch_length += 1 \n",
    "        self.R = Node(R, self.all_snps, self.snp_to_check)\n",
    "        self.L.resolve()\n",
    "        self.R.resolve()\n",
    "\n",
    "\n",
    "    def represent_internals(self):\n",
    "        if self.L is None and self.R is None:\n",
    "            return str(self.genomes)\n",
    "        else:\n",
    "            return str(self.L) + ','+str(self.R)\n",
    "\n",
    "    def __str__(self):\n",
    "        return self.__repr__()\n",
    "    def __repr__(self):\n",
    "        start = '['\n",
    "        end = ']'\n",
    "        if self.resolved:\n",
    "            start = '('\n",
    "            end = ')'\n",
    "        \n",
    "        if self.L is None and self.R is None:\n",
    "            start = ''\n",
    "            end = ''\n",
    "        \n",
    "        return start + self.represent_internals() + end + ':' + str(self.branch_length)\n",
    "    def assign_names(self, name_mapper):\n",
    "        if self.L is None and self.R is None and len(self.genomes) == 1:\n",
    "            self.genomes = name_mapper[self.genomes[0]]\n",
    "        else:\n",
    "            self.L.assign_names(name_mapper)\n",
    "            self.R.assign_names(name_mapper)\n",
    "            \n",
    "    def plot(self, width, midpoint, top_start=0, ax=None):\n",
    "        \"\"\" Plots the lineage and all its descending lineages. To avoid overlap when plotting\n",
    "        multiple lineages, we specify the width and center of the lineage along the x-axis.\n",
    "        Time is plotted along the y axis, and uses the lineage T0 and T1\"\"\"\n",
    "        if ax is None:\n",
    "            fig = plt.figure()\n",
    "            ax = fig.add_subplot(111)\n",
    "        branch_height = top_start-self.branch_length-1\n",
    "        ax.plot([midpoint, midpoint], [top_start,branch_height], 'b') # Plot vertical lineage\n",
    "        if not (self.L is None and self.R is None):\n",
    "            # Assign width proportional to the number of lineages in each sub-lineage\n",
    "            n1 = self.R.descendants\n",
    "            n2 = self.L.descendants\n",
    "            width_1 = n1 * 1./(n1+n2) * width\n",
    "            width_2 = n2 * 1./(n1+n2) * width\n",
    "            midpoint_1 = midpoint - width/2. + width_1/2.  # Find the midpoint of each window\n",
    "            midpoint_2 = midpoint + width/2. - width_2/2.\n",
    "            # Plot horizontal connector\n",
    "            ax.plot([midpoint_1, midpoint_2], [branch_height, branch_height], 'b')                                                                               \n",
    "            self.L.plot(width_1,midpoint_1, branch_height, ax)  # Plot descending lineages\n",
    "            self.R.plot(width_2,midpoint_2, branch_height, ax) "
   ]
  },
  {
   "cell_type": "code",
   "execution_count": 480,
   "metadata": {
    "collapsed": false
   },
   "outputs": [
    {
     "name": "stdout",
     "output_type": "stream",
     "text": [
      "Counter({10: 2, 30: 2, -1: 2, 70: 1, 80: 1, 90: 1, 60: 1})\n",
      "('unresolved:', set([frozenset([10, 30, -1]), frozenset([70, 10, 80, -1, 90, 60, 30])]):0)\n",
      "('resolved:', (b:4,a:0):3)\n"
     ]
    }
   ],
   "source": [
    "# TRIVIAL CASE?\n",
    "nc = name_creator()\n",
    "global nc\n",
    "# data = [\n",
    "#     [10, 20],\n",
    "#     [10, 30, 40],\n",
    "# #     [10, 30, 40, 50],\n",
    "# ]\n",
    "data = [\n",
    "#     [10, 20, 50],\n",
    "#     [10, 20, 40, 80],\n",
    "    [10, 30, 60, 70, 80, 90],\n",
    "    [10, 30]\n",
    "]\n",
    "from collections import Counter\n",
    "data, all_snps = prepare_snp_data(data)\n",
    "name_mapper = dict(zip(data, string.ascii_letters))\n",
    "print(all_snps)\n",
    "node = Node(data, all_snps.most_common())\n",
    "print('unresolved:',node)\n",
    "node.resolve()\n",
    "node.assign_names(name_mapper)\n",
    "print('resolved:',node)"
   ]
  },
  {
   "cell_type": "code",
   "execution_count": 481,
   "metadata": {
    "collapsed": false
   },
   "outputs": [
    {
     "data": {
      "image/png": "[encoded data removed]",
      "text/plain": [
       "<matplotlib.figure.Figure at 0x10c023a50>"
      ]
     },
     "metadata": {},
     "output_type": "display_data"
    }
   ],
   "source": [
    "node.plot(1,0)"
   ]
  },
  {
   "cell_type": "code",
   "execution_count": 482,
   "metadata": {
    "collapsed": true
   },
   "outputs": [],
   "source": [
    "data = [\n",
    "    [10, 20, 50],\n",
    "    [10, 20, 40, 80],\n",
    "    [10, 30, 60, 70],\n",
    "    [10, 30]\n",
    "]"
   ]
  },
  {
   "cell_type": "code",
   "execution_count": 483,
   "metadata": {
    "collapsed": false,
    "scrolled": false
   },
   "outputs": [
    {
     "name": "stdout",
     "output_type": "stream",
     "text": [
      "Counter({10: 4, 20: 2, 30: 2, 70: 1, 40: 1, 80: 1, 50: 1, 60: 1})\n",
      "('unresolved:', set([frozenset([10, 30]), frozenset([10, 20, 50]), frozenset([10, 60, 70, 30]), frozenset([40, 80, 10, 20])]):0)\n",
      "('resolved:', ((d:2,b:1):1,(c:2,a:0):1):1)\n"
     ]
    }
   ],
   "source": [
    "nc = name_creator()\n",
    "global nc\n",
    "# data = [\n",
    "#     [10, 20],\n",
    "#     [10, 30, 40],\n",
    "# #     [10, 30, 40, 50],\n",
    "# ]\n",
    "data = [\n",
    "    [10, 20, 50],\n",
    "    [10, 20, 40, 80],\n",
    "    [10, 30, 60, 70],\n",
    "    [10, 30]\n",
    "]\n",
    "from collections import Counter\n",
    "all_snps = Counter()\n",
    "data = set(map(frozenset, data))\n",
    "_=[all_snps.update(data_) for data_ in data]\n",
    "name_mapper = dict(zip(data, string.ascii_letters))\n",
    "print(all_snps)\n",
    "node = Node(data, all_snps.most_common())\n",
    "print('unresolved:',node)\n",
    "node.resolve()\n",
    "node.assign_names(name_mapper)\n",
    "print('resolved:',node)"
   ]
  },
  {
   "cell_type": "code",
   "execution_count": 484,
   "metadata": {
    "collapsed": false
   },
   "outputs": [
    {
     "data": {
      "image/png": "[encoded data removed]",
      "text/plain": [
       "<matplotlib.figure.Figure at 0x10c007510>"
      ]
     },
     "metadata": {},
     "output_type": "display_data"
    }
   ],
   "source": [
    "node.plot(1, 0)"
   ]
  },
  {
   "cell_type": "code",
   "execution_count": 485,
   "metadata": {
    "collapsed": true
   },
   "outputs": [],
   "source": [
    "def prepare_snp_data(genomes):\n",
    "    data = set(map(frozenset, [[-1]+g for g in genomes]))\n",
    "    all_snps = Counter()\n",
    "    [all_snps.update(data_) for data_ in data]\n",
    "    return data, all_snps"
   ]
  },
  {
   "cell_type": "code",
   "execution_count": 486,
   "metadata": {
    "collapsed": false
   },
   "outputs": [
    {
     "name": "stdout",
     "output_type": "stream",
     "text": [
      "Counter({-1: 3, 10: 2, 20: 1, 30: 1})\n",
      "('unresolved:', set([frozenset([-1]), frozenset([10, 20, -1]), frozenset([10, 30, -1])]):0)\n",
      "('resolved:', ((b:1,c:1):1,a:0):1)\n"
     ]
    }
   ],
   "source": [
    "nc = name_creator()\n",
    "data = [\n",
    "    [],\n",
    "    [],\n",
    "    [10, 20],\n",
    "    [10, 30]\n",
    "]\n",
    "from collections import Counter\n",
    "data, all_snps = prepare_snp_data(data)\n",
    "name_mapper = dict(zip(data, string.ascii_letters))\n",
    "print(all_snps)\n",
    "node = Node(data, all_snps.most_common())\n",
    "print('unresolved:',node)\n",
    "node.resolve()\n",
    "node.assign_names(name_mapper)\n",
    "print('resolved:',node)"
   ]
  },
  {
   "cell_type": "code",
   "execution_count": 487,
   "metadata": {
    "collapsed": false
   },
   "outputs": [
    {
     "data": {
      "text/plain": [
       "{frozenset({-1}): 'a',\n",
       " frozenset({-1, 10, 20}): 'b',\n",
       " frozenset({-1, 10, 30}): 'c'}"
      ]
     },
     "execution_count": 487,
     "metadata": {},
     "output_type": "execute_result"
    }
   ],
   "source": [
    "name_mapper"
   ]
  },
  {
   "cell_type": "code",
   "execution_count": 489,
   "metadata": {
    "collapsed": true
   },
   "outputs": [],
   "source": [
    "from analysis.BaseObjects import Genotype\n",
    "data = [Genotype(original_id=47032322, parent_genotype=43675829, n_resistant=0, n_driver=4, frequency=9, snps=[4, 27, 96, 396, 1073742265, 1040, 1072, 2048, 14259, 19833, 175121, 570276, 1074462802, 1075017413, 1727579, 1077683539, 5385652, 5789893, 10543003, 12941179, 23052266, 37056792, 43894039, 47267188]),\n",
    " Genotype(original_id=53945944, parent_genotype=39442523, n_resistant=0, n_driver=4, frequency=6, snps=[4, 27, 96, 396, 1073742265, 1040, 1072, 2048, 14259, 19833, 175121, 570276, 1074462802, 1075017413, 1727579, 1077683539, 6083252, 6549724, 14298029, 15880390, 26148268, 31106045, 35963989, 39639710, 54215311]),\n",
    " Genotype(original_id=48313940, parent_genotype=37731118, n_resistant=0, n_driver=4, frequency=12, snps=[4, 27, 96, 396, 1073742265, 1040, 1072, 2048, 14259, 19833, 175121, 570276, 1074462802, 1075017413, 1727579, 1077683539, 5385652, 5789893, 10543003, 12941179, 23052266, 26968080, 30030918, 31601076, 37919698, 48555266]),\n",
    " Genotype(original_id=53220329, parent_genotype=51775483, n_resistant=0, n_driver=3, frequency=34, snps=[4, 27, 557, 1073752248, 1073841758, 333720, 408786, 888387, 1068022, 1076404877, 3150956, 3978150, 4716665, 6686928, 8954553, 12550797, 17585250, 42112602, 46798464, 52034096, 53486155]),\n",
    " Genotype(original_id=53845154, parent_genotype=40518068, n_resistant=0, n_driver=4, frequency=17, snps=[4, 27, 96, 396, 1073742265, 1040, 1072, 2048, 14259, 19833, 175121, 570276, 1074462802, 1075017413, 1727579, 1077683539, 5385652, 5789893, 9754645, 14585606, 18435099, 20969877, 33452850, 35689987, 40720641, 54114013]),\n",
    " Genotype(original_id=53768008, parent_genotype=40438090, n_resistant=0, n_driver=4, frequency=7, snps=[4, 27, 96, 396, 1073742265, 1040, 1072, 2048, 14259, 19833, 175121, 570276, 1074462802, 1075017413, 1727579, 1077683539, 5385652, 5789893, 8211335, 10296027, 11312617, 13224537, 18996637, 27834907, 31393323, 40640275, 54036483]),\n",
    " Genotype(original_id=53220329, parent_genotype=51775483, n_resistant=0, n_driver=3, frequency=34, snps=[4, 27, 557, 1073752248, 1073841758, 333720, 408786, 888387, 1068022, 1076404877, 3150956, 3978150, 4716665, 6686928, 8954553, 12550797, 17585250, 42112602, 46798464, 52034096, 53486155]),\n",
    " Genotype(original_id=46704426, parent_genotype=23625296, n_resistant=0, n_driver=4, frequency=10, snps=[4, 27, 96, 396, 1073742265, 1040, 1072, 2048, 14259, 19833, 175121, 570276, 1074462802, 1075017413, 1727579, 1077683539, 8211898, 9854080, 11633647, 13993127, 22941044, 23743905, 46937777]),\n",
    " Genotype(original_id=34528295, parent_genotype=28326366, n_resistant=0, n_driver=4, frequency=22, snps=[4, 27, 96, 396, 1073742265, 1040, 1072, 2048, 14259, 19833, 175121, 570276, 1074462802, 1075017413, 1727579, 1077683539, 5385652, 5789893, 7514194, 8350071, 9402366, 16277916, 17657465, 24330294, 28468309, 34700971]),\n",
    " Genotype(original_id=28440757, parent_genotype=24728175, n_resistant=0, n_driver=4, frequency=31, snps=[4, 27, 96, 396, 1073742265, 1040, 1072, 2048, 14259, 19833, 175121, 570276, 1074462802, 1075017413, 1727579, 1077683539, 5385652, 5789893, 9754645, 14585606, 22842615, 24852322, 28583303]),\n",
    " Genotype(original_id=45708257, parent_genotype=44179318, n_resistant=0, n_driver=4, frequency=17, snps=[4, 27, 96, 396, 1073742265, 1040, 1072, 2048, 14259, 19833, 175121, 570276, 1074462802, 1075017413, 1727579, 1077683539, 5385652, 5789893, 9754645, 14585606, 22842615, 24852322, 28583303, 44400037, 45936547]),\n",
    " Genotype(original_id=45111329, parent_genotype=37360231, n_resistant=0, n_driver=4, frequency=8, snps=[4, 27, 96, 396, 1073742265, 1040, 1072, 2048, 14259, 19833, 175121, 570276, 1074462802, 1075017413, 1727579, 1077683539, 5385652, 5789893, 10543003, 12941179, 17016265, 24712831, 29200726, 37546878, 45336651]),\n",
    " Genotype(original_id=53845154, parent_genotype=40518068, n_resistant=0, n_driver=4, frequency=17, snps=[4, 27, 96, 396, 1073742265, 1040, 1072, 2048, 14259, 19833, 175121, 570276, 1074462802, 1075017413, 1727579, 1077683539, 5385652, 5789893, 9754645, 14585606, 18435099, 20969877, 33452850, 35689987, 40720641, 54114013]),\n",
    " Genotype(original_id=52294075, parent_genotype=45658571, n_resistant=0, n_driver=3, frequency=3, snps=[4, 27, 557, 1073752248, 1073841758, 333720, 408786, 888387, 1068022, 1076404877, 3150956, 3978150, 4716665, 6686928, 8954553, 12550797, 17585250, 23996111, 32655626, 45886611, 52555285]),\n",
    " Genotype(original_id=53845154, parent_genotype=40518068, n_resistant=0, n_driver=4, frequency=17, snps=[4, 27, 96, 396, 1073742265, 1040, 1072, 2048, 14259, 19833, 175121, 570276, 1074462802, 1075017413, 1727579, 1077683539, 5385652, 5789893, 9754645, 14585606, 18435099, 20969877, 33452850, 35689987, 40720641, 54114013]),\n",
    " Genotype(original_id=26840592, parent_genotype=26337373, n_resistant=0, n_driver=3, frequency=23, snps=[4, 27, 96, 396, 1073742265, 1040, 1072, 2048, 14259, 19833, 175121, 570276, 1074462802, 1075017413, 1727579, 5089642, 17798767, 21601937, 25206604, 26469536, 26975288]),\n",
    " Genotype(original_id=48313940, parent_genotype=37731118, n_resistant=0, n_driver=4, frequency=12, snps=[4, 27, 96, 396, 1073742265, 1040, 1072, 2048, 14259, 19833, 175121, 570276, 1074462802, 1075017413, 1727579, 1077683539, 5385652, 5789893, 10543003, 12941179, 23052266, 26968080, 30030918, 31601076, 37919698, 48555266]),\n",
    " Genotype(original_id=47032322, parent_genotype=43675829, n_resistant=0, n_driver=4, frequency=9, snps=[4, 27, 96, 396, 1073742265, 1040, 1072, 2048, 14259, 19833, 175121, 570276, 1074462802, 1075017413, 1727579, 1077683539, 5385652, 5789893, 10543003, 12941179, 23052266, 37056792, 43894039, 47267188]),\n",
    " Genotype(original_id=64949181, parent_genotype=51480635, n_resistant=0, n_driver=5, frequency=1, snps=[4, 27, 96, 396, 1073742265, 1040, 1072, 2048, 14259, 19833, 175121, 570276, 1074462802, 1075017413, 1727579, 1077683539, 8211898, 9854080, 11633647, 13993127, 19722185, 38597502, 1121130704, 48423764, 50444944, 51737766, 65273125]),\n",
    " Genotype(original_id=34528295, parent_genotype=28326366, n_resistant=0, n_driver=4, frequency=22, snps=[4, 27, 96, 396, 1073742265, 1040, 1072, 2048, 14259, 19833, 175121, 570276, 1074462802, 1075017413, 1727579, 1077683539, 5385652, 5789893, 7514194, 8350071, 9402366, 16277916, 17657465, 24330294, 28468309, 34700971]),\n",
    " Genotype(original_id=46704426, parent_genotype=23625296, n_resistant=0, n_driver=4, frequency=10, snps=[4, 27, 96, 396, 1073742265, 1040, 1072, 2048, 14259, 19833, 175121, 570276, 1074462802, 1075017413, 1727579, 1077683539, 8211898, 9854080, 11633647, 13993127, 22941044, 23743905, 46937777]),\n",
    " Genotype(original_id=62579300, parent_genotype=51928389, n_resistant=0, n_driver=2, frequency=2, snps=[4, 27, 148, 1073746974, 5225, 15749, 20803, 76499, 86621, 165295, 2983602, 1077202917, 4585103, 6818369, 10875141, 11318726, 12959389, 20742456, 35916880, 39567530, 40856690, 45224609, 52187762, 62891668]),\n",
    " Genotype(original_id=48377137, parent_genotype=39558364, n_resistant=0, n_driver=4, frequency=14, snps=[4, 27, 96, 396, 1073742265, 1040, 1072, 2048, 14259, 19833, 175121, 570276, 1074462802, 1075017413, 1727579, 1077683539, 5385652, 5789893, 9754645, 14585606, 16392237, 19535028, 30627257, 33022630, 39756105, 48618758]),\n",
    " Genotype(original_id=57311168, parent_genotype=46740392, n_resistant=0, n_driver=3, frequency=2, snps=[4, 27, 148, 1073746974, 5225, 277895, 371253, 1074208017, 563207, 763820, 855732, 2238053, 2501468, 2706675, 1076917357, 3316167, 4222299, 11513641, 13790269, 22725877, 24406868, 27099553, 36077633, 46973905, 57597323]),\n",
    " Genotype(original_id=45708257, parent_genotype=44179318, n_resistant=0, n_driver=4, frequency=17, snps=[4, 27, 96, 396, 1073742265, 1040, 1072, 2048, 14259, 19833, 175121, 570276, 1074462802, 1075017413, 1727579, 1077683539, 5385652, 5789893, 9754645, 14585606, 22842615, 24852322, 28583303, 44400037, 45936547]),\n",
    " Genotype(original_id=61820970, parent_genotype=28440757, n_resistant=0, n_driver=4, frequency=2, snps=[4, 27, 96, 396, 1073742265, 1040, 1072, 2048, 14259, 19833, 175121, 570276, 1074462802, 1075017413, 1727579, 1077683539, 5385652, 5789893, 9754645, 14585606, 22842615, 24852322, 28583303, 62129653]),\n",
    " Genotype(original_id=53845154, parent_genotype=40518068, n_resistant=0, n_driver=4, frequency=17, snps=[4, 27, 96, 396, 1073742265, 1040, 1072, 2048, 14259, 19833, 175121, 570276, 1074462802, 1075017413, 1727579, 1077683539, 5385652, 5789893, 9754645, 14585606, 18435099, 20969877, 33452850, 35689987, 40720641, 54114013]),\n",
    " Genotype(original_id=50283320, parent_genotype=44578196, n_resistant=0, n_driver=4, frequency=6, snps=[4, 27, 96, 396, 1073742265, 1040, 1072, 2048, 14259, 19833, 175121, 570276, 1074462802, 1075017413, 1727579, 1077683539, 5385652, 5789893, 8211335, 10195176, 23039566, 27325455, 44800890, 50534406]),\n",
    " Genotype(original_id=34528295, parent_genotype=28326366, n_resistant=0, n_driver=4, frequency=22, snps=[4, 27, 96, 396, 1073742265, 1040, 1072, 2048, 14259, 19833, 175121, 570276, 1074462802, 1075017413, 1727579, 1077683539, 5385652, 5789893, 7514194, 8350071, 9402366, 16277916, 17657465, 24330294, 28468309, 34700971]),\n",
    " Genotype(original_id=63194757, parent_genotype=46131876, n_resistant=0, n_driver=3, frequency=2, snps=[4, 27, 557, 1073752248, 1073841758, 333720, 408786, 888387, 1068022, 1076404877, 3150956, 3978150, 4716665, 6686928, 8954553, 12550797, 17585250, 46362351, 63510133]),\n",
    " Genotype(original_id=45708257, parent_genotype=44179318, n_resistant=0, n_driver=4, frequency=17, snps=[4, 27, 96, 396, 1073742265, 1040, 1072, 2048, 14259, 19833, 175121, 570276, 1074462802, 1075017413, 1727579, 1077683539, 5385652, 5789893, 9754645, 14585606, 22842615, 24852322, 28583303, 44400037, 45936547]),\n",
    " Genotype(original_id=29055128, parent_genotype=24589377, n_resistant=0, n_driver=4, frequency=29, snps=[4, 27, 96, 396, 1073742265, 1040, 1072, 2048, 14259, 19833, 175121, 570276, 1074462802, 1075017413, 1727579, 1077683539, 5385652, 5789893, 10543003, 12941179, 17016265, 24712831, 29200726]),\n",
    " Genotype(original_id=61394643, parent_genotype=48313940, n_resistant=0, n_driver=4, frequency=2, snps=[4, 27, 96, 396, 1073742265, 1040, 1072, 2048, 14259, 19833, 175121, 570276, 1074462802, 1075017413, 1727579, 1077683539, 5385652, 5789893, 10543003, 12941179, 23052266, 26968080, 30030918, 31601076, 37919698, 48555266, 61701179]),\n",
    " Genotype(original_id=53845154, parent_genotype=40518068, n_resistant=0, n_driver=4, frequency=17, snps=[4, 27, 96, 396, 1073742265, 1040, 1072, 2048, 14259, 19833, 175121, 570276, 1074462802, 1075017413, 1727579, 1077683539, 5385652, 5789893, 9754645, 14585606, 18435099, 20969877, 33452850, 35689987, 40720641, 54114013]),\n",
    " Genotype(original_id=47032322, parent_genotype=43675829, n_resistant=0, n_driver=4, frequency=9, snps=[4, 27, 96, 396, 1073742265, 1040, 1072, 2048, 14259, 19833, 175121, 570276, 1074462802, 1075017413, 1727579, 1077683539, 5385652, 5789893, 10543003, 12941179, 23052266, 37056792, 43894039, 47267188]),\n",
    " Genotype(original_id=53220329, parent_genotype=51775483, n_resistant=0, n_driver=3, frequency=34, snps=[4, 27, 557, 1073752248, 1073841758, 333720, 408786, 888387, 1068022, 1076404877, 3150956, 3978150, 4716665, 6686928, 8954553, 12550797, 17585250, 42112602, 46798464, 52034096, 53486155]),\n",
    " Genotype(original_id=58982653, parent_genotype=27905453, n_resistant=0, n_driver=4, frequency=3, snps=[4, 27, 96, 396, 1073742265, 1040, 1072, 2048, 14259, 19833, 175121, 570276, 1074462802, 1075017413, 1727579, 1077683539, 8211898, 9854080, 15957640, 18128137, 28045370, 59277089]),\n",
    " Genotype(original_id=47032322, parent_genotype=43675829, n_resistant=0, n_driver=4, frequency=9, snps=[4, 27, 96, 396, 1073742265, 1040, 1072, 2048, 14259, 19833, 175121, 570276, 1074462802, 1075017413, 1727579, 1077683539, 5385652, 5789893, 10543003, 12941179, 23052266, 37056792, 43894039, 47267188]),\n",
    " Genotype(original_id=61820970, parent_genotype=28440757, n_resistant=0, n_driver=4, frequency=2, snps=[4, 27, 96, 396, 1073742265, 1040, 1072, 2048, 14259, 19833, 175121, 570276, 1074462802, 1075017413, 1727579, 1077683539, 5385652, 5789893, 9754645, 14585606, 22842615, 24852322, 28583303, 62129653]),\n",
    " Genotype(original_id=53220329, parent_genotype=51775483, n_resistant=0, n_driver=3, frequency=34, snps=[4, 27, 557, 1073752248, 1073841758, 333720, 408786, 888387, 1068022, 1076404877, 3150956, 3978150, 4716665, 6686928, 8954553, 12550797, 17585250, 42112602, 46798464, 52034096, 53486155]),\n",
    " Genotype(original_id=45111329, parent_genotype=37360231, n_resistant=0, n_driver=4, frequency=8, snps=[4, 27, 96, 396, 1073742265, 1040, 1072, 2048, 14259, 19833, 175121, 570276, 1074462802, 1075017413, 1727579, 1077683539, 5385652, 5789893, 10543003, 12941179, 17016265, 24712831, 29200726, 37546878, 45336651]),\n",
    " Genotype(original_id=45111329, parent_genotype=37360231, n_resistant=0, n_driver=4, frequency=8, snps=[4, 27, 96, 396, 1073742265, 1040, 1072, 2048, 14259, 19833, 175121, 570276, 1074462802, 1075017413, 1727579, 1077683539, 5385652, 5789893, 10543003, 12941179, 17016265, 24712831, 29200726, 37546878, 45336651]),\n",
    " Genotype(original_id=48376487, parent_genotype=47779419, n_resistant=0, n_driver=4, frequency=43, snps=[4, 27, 96, 396, 1073742265, 1040, 1072, 2048, 14259, 19833, 175121, 570276, 1074462802, 1075017413, 1727579, 1077683539, 8211898, 9854080, 15957640, 18128137, 29211928, 48018058, 48618103]),\n",
    " Genotype(original_id=53220329, parent_genotype=51775483, n_resistant=0, n_driver=3, frequency=34, snps=[4, 27, 557, 1073752248, 1073841758, 333720, 408786, 888387, 1068022, 1076404877, 3150956, 3978150, 4716665, 6686928, 8954553, 12550797, 17585250, 42112602, 46798464, 52034096, 53486155]),\n",
    " Genotype(original_id=58579609, parent_genotype=24236880, n_resistant=0, n_driver=3, frequency=3, snps=[4, 27, 96, 396, 1073742265, 1040, 1072, 2048, 14259, 19833, 175121, 570276, 1074462802, 1075017413, 1727579, 6389576, 8659404, 11508997, 15062527, 20627586, 24358542, 58872054]),\n",
    " Genotype(original_id=48376487, parent_genotype=47779419, n_resistant=0, n_driver=4, frequency=43, snps=[4, 27, 96, 396, 1073742265, 1040, 1072, 2048, 14259, 19833, 175121, 570276, 1074462802, 1075017413, 1727579, 1077683539, 8211898, 9854080, 15957640, 18128137, 29211928, 48018058, 48618103]),\n",
    " Genotype(original_id=53220329, parent_genotype=51775483, n_resistant=0, n_driver=3, frequency=34, snps=[4, 27, 557, 1073752248, 1073841758, 333720, 408786, 888387, 1068022, 1076404877, 3150956, 3978150, 4716665, 6686928, 8954553, 12550797, 17585250, 42112602, 46798464, 52034096, 53486155]),\n",
    " Genotype(original_id=34528295, parent_genotype=28326366, n_resistant=0, n_driver=4, frequency=22, snps=[4, 27, 96, 396, 1073742265, 1040, 1072, 2048, 14259, 19833, 175121, 570276, 1074462802, 1075017413, 1727579, 1077683539, 5385652, 5789893, 7514194, 8350071, 9402366, 16277916, 17657465, 24330294, 28468309, 34700971]),\n",
    " Genotype(original_id=48313940, parent_genotype=37731118, n_resistant=0, n_driver=4, frequency=12, snps=[4, 27, 96, 396, 1073742265, 1040, 1072, 2048, 14259, 19833, 175121, 570276, 1074462802, 1075017413, 1727579, 1077683539, 5385652, 5789893, 10543003, 12941179, 23052266, 26968080, 30030918, 31601076, 37919698, 48555266]),\n",
    " Genotype(original_id=53768008, parent_genotype=40438090, n_resistant=0, n_driver=4, frequency=7, snps=[4, 27, 96, 396, 1073742265, 1040, 1072, 2048, 14259, 19833, 175121, 570276, 1074462802, 1075017413, 1727579, 1077683539, 5385652, 5789893, 8211335, 10296027, 11312617, 13224537, 18996637, 27834907, 31393323, 40640275, 54036483]),\n",
    " Genotype(original_id=45111329, parent_genotype=37360231, n_resistant=0, n_driver=4, frequency=8, snps=[4, 27, 96, 396, 1073742265, 1040, 1072, 2048, 14259, 19833, 175121, 570276, 1074462802, 1075017413, 1727579, 1077683539, 5385652, 5789893, 10543003, 12941179, 17016265, 24712831, 29200726, 37546878, 45336651]),\n",
    " Genotype(original_id=53220329, parent_genotype=51775483, n_resistant=0, n_driver=3, frequency=34, snps=[4, 27, 557, 1073752248, 1073841758, 333720, 408786, 888387, 1068022, 1076404877, 3150956, 3978150, 4716665, 6686928, 8954553, 12550797, 17585250, 42112602, 46798464, 52034096, 53486155]),\n",
    " Genotype(original_id=53220329, parent_genotype=51775483, n_resistant=0, n_driver=3, frequency=34, snps=[4, 27, 557, 1073752248, 1073841758, 333720, 408786, 888387, 1068022, 1076404877, 3150956, 3978150, 4716665, 6686928, 8954553, 12550797, 17585250, 42112602, 46798464, 52034096, 53486155]),\n",
    " Genotype(original_id=51928389, parent_genotype=44999863, n_resistant=0, n_driver=2, frequency=7, snps=[4, 27, 148, 1073746974, 5225, 15749, 20803, 76499, 86621, 165295, 2983602, 1077202917, 4585103, 6818369, 10875141, 11318726, 12959389, 20742456, 35916880, 39567530, 40856690, 45224609, 52187762]),\n",
    " Genotype(original_id=48376487, parent_genotype=47779419, n_resistant=0, n_driver=4, frequency=43, snps=[4, 27, 96, 396, 1073742265, 1040, 1072, 2048, 14259, 19833, 175121, 570276, 1074462802, 1075017413, 1727579, 1077683539, 8211898, 9854080, 15957640, 18128137, 29211928, 48018058, 48618103]),\n",
    " Genotype(original_id=47032322, parent_genotype=43675829, n_resistant=0, n_driver=4, frequency=9, snps=[4, 27, 96, 396, 1073742265, 1040, 1072, 2048, 14259, 19833, 175121, 570276, 1074462802, 1075017413, 1727579, 1077683539, 5385652, 5789893, 10543003, 12941179, 23052266, 37056792, 43894039, 47267188]),\n",
    " Genotype(original_id=57393415, parent_genotype=55844578, n_resistant=0, n_driver=4, frequency=7, snps=[4, 27, 96, 396, 1073742265, 1040, 1072, 2048, 14259, 19833, 175121, 570276, 1074462802, 1075017413, 1727579, 1077683539, 5385652, 5789893, 9754645, 14585606, 22842615, 24852322, 28583303, 44400037, 45936547, 53022890, 56123500, 57679978]),\n",
    " Genotype(original_id=48765532, parent_genotype=42350167, n_resistant=0, n_driver=3, frequency=10, snps=[4, 27, 96, 396, 1073742265, 1040, 1072, 2048, 14259, 19833, 175121, 570276, 1074462802, 1075017413, 2492967, 8893975, 10429537, 11795250, 13618047, 18209223, 20359894, 24510528, 31618846, 35359266, 42561775, 49009149]),\n",
    " Genotype(original_id=47032322, parent_genotype=43675829, n_resistant=0, n_driver=4, frequency=9, snps=[4, 27, 96, 396, 1073742265, 1040, 1072, 2048, 14259, 19833, 175121, 570276, 1074462802, 1075017413, 1727579, 1077683539, 5385652, 5789893, 10543003, 12941179, 23052266, 37056792, 43894039, 47267188]),\n",
    " Genotype(original_id=46704426, parent_genotype=23625296, n_resistant=0, n_driver=4, frequency=10, snps=[4, 27, 96, 396, 1073742265, 1040, 1072, 2048, 14259, 19833, 175121, 570276, 1074462802, 1075017413, 1727579, 1077683539, 8211898, 9854080, 11633647, 13993127, 22941044, 23743905, 46937777]),\n",
    " Genotype(original_id=60980319, parent_genotype=56005338, n_resistant=0, n_driver=2, frequency=2, snps=[4, 27, 148, 1073746974, 5225, 15749, 20803, 76499, 86621, 165295, 2983602, 1077202917, 4585103, 14365430, 14845398, 14845399, 20199718, 20348122, 22574107, 34665390, 49476019, 56285011, 61284730]),\n",
    " Genotype(original_id=47032322, parent_genotype=43675829, n_resistant=0, n_driver=4, frequency=9, snps=[4, 27, 96, 396, 1073742265, 1040, 1072, 2048, 14259, 19833, 175121, 570276, 1074462802, 1075017413, 1727579, 1077683539, 5385652, 5789893, 10543003, 12941179, 23052266, 37056792, 43894039, 47267188]),\n",
    " Genotype(original_id=50283320, parent_genotype=44578196, n_resistant=0, n_driver=4, frequency=6, snps=[4, 27, 96, 396, 1073742265, 1040, 1072, 2048, 14259, 19833, 175121, 570276, 1074462802, 1075017413, 1727579, 1077683539, 5385652, 5789893, 8211335, 10195176, 23039566, 27325455, 44800890, 50534406]),\n",
    " Genotype(original_id=65203132, parent_genotype=63108062, n_resistant=0, n_driver=3, frequency=1, snps=[4, 27, 557, 1073752248, 1073841758, 333720, 408786, 888387, 1068022, 1076404877, 3150956, 3978150, 4716665, 6686928, 8954553, 12550797, 17585250, 23996111, 32655626, 45886611, 52555285, 55579146, 63423015, 65528348]),\n",
    " Genotype(original_id=63194757, parent_genotype=46131876, n_resistant=0, n_driver=3, frequency=2, snps=[4, 27, 557, 1073752248, 1073841758, 333720, 408786, 888387, 1068022, 1076404877, 3150956, 3978150, 4716665, 6686928, 8954553, 12550797, 17585250, 46362351, 63510133]),\n",
    " Genotype(original_id=53945944, parent_genotype=39442523, n_resistant=0, n_driver=4, frequency=6, snps=[4, 27, 96, 396, 1073742265, 1040, 1072, 2048, 14259, 19833, 175121, 570276, 1074462802, 1075017413, 1727579, 1077683539, 6083252, 6549724, 14298029, 15880390, 26148268, 31106045, 35963989, 39639710, 54215311]),\n",
    " Genotype(original_id=34528295, parent_genotype=28326366, n_resistant=0, n_driver=4, frequency=22, snps=[4, 27, 96, 396, 1073742265, 1040, 1072, 2048, 14259, 19833, 175121, 570276, 1074462802, 1075017413, 1727579, 1077683539, 5385652, 5789893, 7514194, 8350071, 9402366, 16277916, 17657465, 24330294, 28468309, 34700971]),\n",
    " Genotype(original_id=63108062, parent_genotype=55302994, n_resistant=0, n_driver=3, frequency=2, snps=[4, 27, 557, 1073752248, 1073841758, 333720, 408786, 888387, 1068022, 1076404877, 3150956, 3978150, 4716665, 6686928, 8954553, 12550797, 17585250, 23996111, 32655626, 45886611, 52555285, 55579146, 63423015]),\n",
    " Genotype(original_id=47736264, parent_genotype=42535664, n_resistant=0, n_driver=4, frequency=18, snps=[4, 27, 96, 396, 1073742265, 1040, 1072, 2048, 14259, 19833, 175121, 570276, 1074462802, 1075017413, 1727579, 1077683539, 5385652, 5789893, 10543003, 12941179, 17016265, 24712831, 29200726, 42748229, 47974704]),\n",
    " Genotype(original_id=59031678, parent_genotype=52248796, n_resistant=0, n_driver=4, frequency=2, snps=[4, 27, 96, 396, 1073742265, 1040, 1072, 2048, 14259, 19833, 175121, 570276, 1074462802, 1075017413, 1727579, 1077683539, 5385652, 5789893, 7514194, 8350071, 9402366, 16277916, 17657465, 24330294, 46496324, 52509798, 59326347]),\n",
    " Genotype(original_id=51480635, parent_genotype=50194315, n_resistant=0, n_driver=5, frequency=8, snps=[4, 27, 96, 396, 1073742265, 1040, 1072, 2048, 14259, 19833, 175121, 570276, 1074462802, 1075017413, 1727579, 1077683539, 8211898, 9854080, 11633647, 13993127, 19722185, 38597502, 1121130704, 48423764, 50444944, 51737766]),\n",
    " Genotype(original_id=64472163, parent_genotype=50283320, n_resistant=0, n_driver=4, frequency=4, snps=[4, 27, 96, 396, 1073742265, 1040, 1072, 2048, 14259, 19833, 175121, 570276, 1074462802, 1075017413, 1727579, 1077683539, 5385652, 5789893, 8211335, 10195176, 23039566, 27325455, 44800890, 50534406, 64793783]),\n",
    " Genotype(original_id=48376487, parent_genotype=47779419, n_resistant=0, n_driver=4, frequency=43, snps=[4, 27, 96, 396, 1073742265, 1040, 1072, 2048, 14259, 19833, 175121, 570276, 1074462802, 1075017413, 1727579, 1077683539, 8211898, 9854080, 15957640, 18128137, 29211928, 48018058, 48618103]),\n",
    " Genotype(original_id=40619771, parent_genotype=33958839, n_resistant=0, n_driver=4, frequency=12, snps=[4, 27, 148, 1073746974, 5225, 277895, 371253, 1074208017, 2179386, 2348866, 1076354539, 1080333122, 19081773, 19258391, 34128577, 40822855]),\n",
    " Genotype(original_id=52713149, parent_genotype=51755172, n_resistant=0, n_driver=4, frequency=20, snps=[4, 27, 96, 396, 1073742265, 1040, 1072, 2048, 14259, 19833, 175121, 570276, 1074462802, 1075017413, 1727579, 1077683539, 5385652, 5789893, 10543003, 12941179, 25205887, 27359428, 36901313, 48092392, 52013695, 52976474]),\n",
    " Genotype(original_id=35431417, parent_genotype=7053732, n_resistant=0, n_driver=3, frequency=14, snps=[4, 27, 96, 396, 1073742265, 1040, 1072, 2048, 14259, 19833, 175121, 570276, 1074462802, 1075017413, 2492967, 2967939, 7089264, 35608537]),\n",
    " Genotype(original_id=47032322, parent_genotype=43675829, n_resistant=0, n_driver=4, frequency=9, snps=[4, 27, 96, 396, 1073742265, 1040, 1072, 2048, 14259, 19833, 175121, 570276, 1074462802, 1075017413, 1727579, 1077683539, 5385652, 5789893, 10543003, 12941179, 23052266, 37056792, 43894039, 47267188]),\n",
    " Genotype(original_id=53220329, parent_genotype=51775483, n_resistant=0, n_driver=3, frequency=34, snps=[4, 27, 557, 1073752248, 1073841758, 333720, 408786, 888387, 1068022, 1076404877, 3150956, 3978150, 4716665, 6686928, 8954553, 12550797, 17585250, 42112602, 46798464, 52034096, 53486155]),\n",
    " Genotype(original_id=55586845, parent_genotype=45111329, n_resistant=0, n_driver=4, frequency=3, snps=[4, 27, 96, 396, 1073742265, 1040, 1072, 2048, 14259, 19833, 175121, 570276, 1074462802, 1075017413, 1727579, 1077683539, 5385652, 5789893, 10543003, 12941179, 17016265, 24712831, 29200726, 37546878, 45336651, 55864452]),\n",
    " Genotype(original_id=60195634, parent_genotype=59158017, n_resistant=0, n_driver=4, frequency=5, snps=[4, 27, 96, 396, 1073742265, 1040, 1072, 2048, 14259, 19833, 175121, 570276, 1074462802, 1075017413, 1727579, 1077683539, 5385652, 5789893, 10543003, 12941179, 23052266, 26582331, 27555068, 45719372, 59453354, 60496175]),\n",
    " Genotype(original_id=52668024, parent_genotype=20202605, n_resistant=0, n_driver=4, frequency=1, snps=[4, 27, 96, 396, 1073742265, 1040, 1072, 2048, 14259, 19833, 175121, 570276, 1074462802, 1075017413, 1727579, 1077683539, 5385652, 5789893, 9569408, 11336728, 14399081, 18586050, 20303891, 52931125]),\n",
    " Genotype(original_id=22620793, parent_genotype=15744488, n_resistant=0, n_driver=3, frequency=62, snps=[4, 27, 96, 396, 1073742265, 1040, 1072, 2048, 14259, 19833, 175121, 570276, 1074462802, 1075017413, 1727579, 2389336, 2646300, 3940073, 6713363, 8773754, 11494170, 15823542, 22734381]),\n",
    " Genotype(original_id=51928389, parent_genotype=44999863, n_resistant=0, n_driver=2, frequency=7, snps=[4, 27, 148, 1073746974, 5225, 15749, 20803, 76499, 86621, 165295, 2983602, 1077202917, 4585103, 6818369, 10875141, 11318726, 12959389, 20742456, 35916880, 39567530, 40856690, 45224609, 52187762]),\n",
    " Genotype(original_id=34528295, parent_genotype=28326366, n_resistant=0, n_driver=4, frequency=22, snps=[4, 27, 96, 396, 1073742265, 1040, 1072, 2048, 14259, 19833, 175121, 570276, 1074462802, 1075017413, 1727579, 1077683539, 5385652, 5789893, 7514194, 8350071, 9402366, 16277916, 17657465, 24330294, 28468309, 34700971]),\n",
    " Genotype(original_id=63722134, parent_genotype=47032322, n_resistant=0, n_driver=4, frequency=2, snps=[4, 27, 96, 396, 1073742265, 1040, 1072, 2048, 14259, 19833, 175121, 570276, 1074462802, 1075017413, 1727579, 1077683539, 5385652, 5789893, 10543003, 12941179, 23052266, 37056792, 43894039, 47267188, 64040133]),\n",
    " Genotype(original_id=53768008, parent_genotype=40438090, n_resistant=0, n_driver=4, frequency=7, snps=[4, 27, 96, 396, 1073742265, 1040, 1072, 2048, 14259, 19833, 175121, 570276, 1074462802, 1075017413, 1727579, 1077683539, 5385652, 5789893, 8211335, 10296027, 11312617, 13224537, 18996637, 27834907, 31393323, 40640275, 54036483]),\n",
    " Genotype(original_id=35566780, parent_genotype=27246836, n_resistant=0, n_driver=4, frequency=25, snps=[4, 27, 96, 396, 1073742265, 1040, 1072, 2048, 14259, 19833, 175121, 570276, 1074462802, 1075017413, 1727579, 1077683539, 5385652, 5789893, 9754645, 14585606, 18435099, 27383525, 35744570]),\n",
    " Genotype(original_id=58139036, parent_genotype=49617133, n_resistant=0, n_driver=3, frequency=10, snps=[4, 27, 96, 396, 1073742265, 1040, 1072, 2048, 14259, 19833, 175121, 570276, 1074462802, 1075017413, 1727579, 2389336, 2646300, 3940073, 6713363, 8773754, 11494170, 15823542, 22734381, 49864977, 58429365]),\n",
    " Genotype(original_id=64802373, parent_genotype=53845154, n_resistant=0, n_driver=4, frequency=3, snps=[4, 27, 96, 396, 1073742265, 1040, 1072, 2048, 14259, 19833, 175121, 570276, 1074462802, 1075017413, 1727579, 1077683539, 5385652, 5789893, 9754645, 14585606, 18435099, 20969877, 33452850, 35689987, 40720641, 54114013, 65125611]),\n",
    " Genotype(original_id=58882176, parent_genotype=35123436, n_resistant=0, n_driver=3, frequency=1, snps=[4, 27, 96, 396, 1073742265, 1040, 1072, 2048, 14259, 19833, 175121, 570276, 1074462802, 1075017413, 2492967, 2967939, 6930259, 7960774, 9201309, 11047065, 15928714, 35299099, 59176118]),\n",
    " Genotype(original_id=53845154, parent_genotype=40518068, n_resistant=0, n_driver=4, frequency=17, snps=[4, 27, 96, 396, 1073742265, 1040, 1072, 2048, 14259, 19833, 175121, 570276, 1074462802, 1075017413, 1727579, 1077683539, 5385652, 5789893, 9754645, 14585606, 18435099, 20969877, 33452850, 35689987, 40720641, 54114013]),\n",
    " Genotype(original_id=53220329, parent_genotype=51775483, n_resistant=0, n_driver=3, frequency=34, snps=[4, 27, 557, 1073752248, 1073841758, 333720, 408786, 888387, 1068022, 1076404877, 3150956, 3978150, 4716665, 6686928, 8954553, 12550797, 17585250, 42112602, 46798464, 52034096, 53486155]),\n",
    " Genotype(original_id=26641323, parent_genotype=13923230, n_resistant=0, n_driver=4, frequency=10, snps=[4, 27, 96, 396, 1073742265, 1040, 1072, 2048, 14259, 19833, 175121, 570276, 1074462802, 1075017413, 1727579, 1077683539, 8211898, 9854080, 11633647, 13993127, 26775014]),\n",
    " Genotype(original_id=55302994, parent_genotype=52294075, n_resistant=0, n_driver=3, frequency=16, snps=[4, 27, 557, 1073752248, 1073841758, 333720, 408786, 888387, 1068022, 1076404877, 3150956, 3978150, 4716665, 6686928, 8954553, 12550797, 17585250, 23996111, 32655626, 45886611, 52555285, 55579146]),\n",
    " Genotype(original_id=64802373, parent_genotype=53845154, n_resistant=0, n_driver=4, frequency=3, snps=[4, 27, 96, 396, 1073742265, 1040, 1072, 2048, 14259, 19833, 175121, 570276, 1074462802, 1075017413, 1727579, 1077683539, 5385652, 5789893, 9754645, 14585606, 18435099, 20969877, 33452850, 35689987, 40720641, 54114013, 65125611]),\n",
    " Genotype(original_id=60359441, parent_genotype=46023333, n_resistant=0, n_driver=3, frequency=2, snps=[4, 27, 96, 396, 1073742265, 1040, 1072, 2048, 14259, 19833, 175121, 570276, 1074462802, 1075017413, 1902176, 2000973, 5586788, 8175003, 11636402, 33255535, 46253269, 60660764]),\n",
    " Genotype(original_id=52637564, parent_genotype=44103502, n_resistant=0, n_driver=4, frequency=5, snps=[4, 27, 96, 396, 1073742265, 1040, 1072, 2048, 14259, 19833, 175121, 570276, 1074462802, 1075017413, 1727579, 1077683539, 5385652, 5789893, 8211335, 10195176, 24838648, 26095939, 29140117, 30577126, 31427797, 34256268, 38876579, 44323849, 52900529]),\n",
    " Genotype(original_id=40527770, parent_genotype=36590890, n_resistant=0, n_driver=3, frequency=3, snps=[4, 27, 96, 396, 1073742265, 1040, 1072, 2048, 14259, 19833, 175121, 570276, 1074462802, 1075017413, 2492967, 2967939, 6233245, 17879610, 18112004, 18461868, 36773785, 40730398]),\n",
    " Genotype(original_id=60623099, parent_genotype=52376949, n_resistant=0, n_driver=4, frequency=4, snps=[4, 27, 96, 396, 1073742265, 1040, 1072, 2048, 14259, 19833, 175121, 570276, 1074462802, 1075017413, 1727579, 1077683539, 4961114, 9864679, 13407102, 14362975, 18186139, 20857103, 28530626, 32447248, 36213190, 43110286, 52638555, 60925712]),\n",
    " Genotype(original_id=57311168, parent_genotype=46740392, n_resistant=0, n_driver=3, frequency=2, snps=[4, 27, 148, 1073746974, 5225, 277895, 371253, 1074208017, 563207, 763820, 855732, 2238053, 2501468, 2706675, 1076917357, 3316167, 4222299, 11513641, 13790269, 22725877, 24406868, 27099553, 36077633, 46973905, 57597323])]"
   ]
  },
  {
   "cell_type": "code",
   "execution_count": 492,
   "metadata": {
    "collapsed": false
   },
   "outputs": [],
   "source": [
    "data_extracted = [data_.snps for data_ in data]"
   ]
  },
  {
   "cell_type": "code",
   "execution_count": 493,
   "metadata": {
    "collapsed": true
   },
   "outputs": [],
   "source": [
    "def number_yielder():\n",
    "    i = 0\n",
    "    while True:\n",
    "        yield str(i)\n",
    "        i+=1"
   ]
  },
  {
   "cell_type": "code",
   "execution_count": 496,
   "metadata": {
    "collapsed": false,
    "scrolled": true
   },
   "outputs": [
    {
     "data": {
      "image/png": "[encoded data removed]",
      "text/plain": [
       "<matplotlib.figure.Figure at 0x10bc1f750>"
      ]
     },
     "metadata": {},
     "output_type": "display_data"
    }
   ],
   "source": [
    "from collections import Counter\n",
    "data, all_snps = prepare_snp_data(data_extracted)\n",
    "name_mapper = dict(zip(data, number_yielder()))\n",
    "node = Node(data, all_snps.most_common())\n",
    "# print('unresolved:',node)\n",
    "node.resolve()\n",
    "node.assign_names(name_mapper)\n",
    "node.plot(1, 0)"
   ]
  },
  {
   "cell_type": "code",
   "execution_count": 505,
   "metadata": {
    "collapsed": false
   },
   "outputs": [
    {
     "data": {
      "image/png": "[encoded data removed]",
      "text/plain": [
       "<matplotlib.figure.Figure at 0x113752750>"
      ]
     },
     "metadata": {},
     "output_type": "display_data"
    }
   ],
   "source": [
    "fig = plt.figure(figsize=(15, 3))\n",
    "ax = fig.add_subplot(111)\n",
    "node.plot(1, 0,ax=ax)"
   ]
  },
  {
   "cell_type": "code",
   "execution_count": null,
   "metadata": {
    "collapsed": true
   },
   "outputs": [],
   "source": []
  }
 ],
 "metadata": {
  "kernelspec": {
   "display_name": "Python 2",
   "language": "python",
   "name": "python2"
  },
  "language_info": {
   "codemirror_mode": {
    "name": "ipython",
    "version": 2
   },
   "file_extension": ".py",
   "mimetype": "text/x-python",
   "name": "python",
   "nbconvert_exporter": "python",
   "pygments_lexer": "ipython2",
   "version": "2.7.13"
  }
 },
 "nbformat": 4,
 "nbformat_minor": 0
}
